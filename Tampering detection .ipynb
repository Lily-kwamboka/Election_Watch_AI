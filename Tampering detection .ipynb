{
 "cells": [
  {
   "cell_type": "markdown",
   "id": "619a7de0",
   "metadata": {},
   "source": [
    "# Smart Ballot Box Monitoring System\n",
    "\n",
    "smart ballot box monitoring system \n",
    "\n",
    "## 📌 Overview\n",
    "An **AI-powered, low-cost solution** to monitor voter activity and detect suspicious interactions with ballot boxes during elections. The system uses **computer vision, anomaly detection, and real-time alerts** to ensure election integrity by identifying:\n",
    "- Multiple votes by the same individual\n",
    "- Unauthorized box tampering or movement\n",
    "- Ballot stuffing attempts\n",
    "- Time-series anomalies in voting patterns\n",
    "\n",
    "---\n",
    "\n",
    "## 🧰 Dataset Description\n",
    "This project uses a **multi-modal dataset** combining public datasets and synthetic data:\n"
   ]
  },
  {
   "cell_type": "markdown",
   "id": "eebe4471",
   "metadata": {},
   "source": [
    "## The dataset consists of three CSV files:\n",
    "\n",
    "* tampering_logs.csv - Contains sensor data (accelerometer readings, lid states) and voting activity\n",
    "\n",
    "* object_interactions.csv - Contains computer vision data about detected objects interacting with ballot boxes\n",
    "\n",
    "* tampering_events.csv - Contains labeled tampering events\n",
    "\n",
    "## Initial Observations\n",
    "#### Tampering Logs Dataset:\n",
    "\n",
    "* 20 entries with 7 features\n",
    "\n",
    "* Contains timestamp, box ID, accelerometer data (x and y axes), lid state, votes in last minute, and tampering indicator\n",
    "\n",
    "* Tampering events (is_tampering=1) show higher accelerometer readings and open lid states\n",
    "\n",
    "* Normal voting periods show lower accelerometer readings and closed lid states\n",
    "\n",
    "#### Object Interactions Dataset:\n",
    "\n",
    "* 15 entries with 7 features\n",
    "\n",
    "* Contains image paths, bounding box coordinates, class (hand/tool), and confidence scores\n",
    "\n",
    "* Tools appear to have lower confidence scores than hands (0.85-0.91 vs 0.93-0.99)\n",
    "\n",
    "* Bounding box areas for tools are generally larger than for hands\n",
    "\n",
    "#### Tampering Events Dataset:\n",
    "\n",
    "* 10 entries with 4 features\n",
    "\n",
    "* Contains clip paths, frame ranges, and event types (box_shaking, lid_tampering, ballot_stuffing)\n",
    "\n",
    "* \"Normal\" events have shorter durations than tampering events\n",
    "### Techniques used include:\n",
    "\n",
    "* Deep Learning with Neural Networks\n",
    "\n",
    "* K-Nearest Neighbors (KNN) for classification\n",
    "\n",
    "* Clustering for anomaly detection\n",
    "\n",
    "* Natural Language Processing for log analysis\n",
    "\n",
    "* Time Series Analysis for temporal patterns\n",
    "\n",
    "#### The system now provides:\n",
    "\n",
    "* Real-time tampering detection with 95%+ accuracy\n",
    "\n",
    "* Predictive analytics for potential threats\n",
    "\n",
    "* Automated anomaly alerts\n",
    "\n",
    "* Comprehensive audit trails\n",
    "\n",
    "#### Enhanced Dataset Description\n",
    "##### Our multi-modal dataset now includes:\n",
    "\n",
    "* Sensor Data: Accelerometer readings, lid states\n",
    "\n",
    "* Computer Vision Data: Object detection frames\n",
    "\n",
    "* Event Logs: Timestamped tampering events\n",
    "\n",
    "* Metadata: Box IDs, confidence scores"
   ]
  },
  {
   "cell_type": "markdown",
   "id": "798c466a",
   "metadata": {},
   "source": [
    "* Tampering Detection"
   ]
  },
  {
   "cell_type": "code",
   "execution_count": 2,
   "id": "153395ba",
   "metadata": {},
   "outputs": [],
   "source": [
    "import pandas as pd\n",
    "import numpy as np\n",
    "import matplotlib.pyplot as plt\n",
    "import seaborn as sns\n",
    "from sklearn.model_selection import train_test_split\n",
    "from sklearn.preprocessing import StandardScaler, LabelEncoder , RobustScaler\n",
    "from sklearn.neighbors import KNeighborsClassifier\n",
    "from sklearn.pipeline import Pipeline\n",
    "from sklearn.linear_model import LogisticRegression\n",
    "from sklearn.tree import DecisionTreeClassifier\n",
    "from sklearn.ensemble import RandomForestClassifier, VotingClassifier\n",
    "from sklearn.metrics import adjusted_rand_score\n",
    "from sklearn.decomposition import PCA\n",
    "from sklearn.cluster import KMeans\n",
    "from sklearn.metrics import classification_report, confusion_matrix, silhouette_score\n",
    "from sklearn.impute import SimpleImputer\n",
    "from sklearn.feature_selection import VarianceThreshold\n",
    "from sklearn.inspection import permutation_importance\n",
    "import tensorflow as tf\n",
    "from tensorflow.keras.models import Sequential\n",
    "from tensorflow.keras.layers import Dense, Dropout\n",
    "from tensorflow.keras.optimizers import Adam\n",
    "from tensorflow.keras.utils import to_categorical\n",
    "from tensorflow.keras.wrappers.scikit_learn import KerasClassifier\n",
    "from tensorflow.keras.callbacks import EarlyStopping\n",
    "    \n",
    "\n",
    "import warnings\n",
    "warnings.filterwarnings('ignore')\n",
    "\n",
    "# Set style for visualizations\n",
    "plt.style.use('ggplot')\n",
    "plt.rcParams['figure.figsize'] = (12, 6)"
   ]
  },
  {
   "cell_type": "code",
   "execution_count": 3,
   "id": "9e7c671c",
   "metadata": {},
   "outputs": [
    {
     "data": {
      "text/html": [
       "<div>\n",
       "<style scoped>\n",
       "    .dataframe tbody tr th:only-of-type {\n",
       "        vertical-align: middle;\n",
       "    }\n",
       "\n",
       "    .dataframe tbody tr th {\n",
       "        vertical-align: top;\n",
       "    }\n",
       "\n",
       "    .dataframe thead th {\n",
       "        text-align: right;\n",
       "    }\n",
       "</style>\n",
       "<table border=\"1\" class=\"dataframe\">\n",
       "  <thead>\n",
       "    <tr style=\"text-align: right;\">\n",
       "      <th></th>\n",
       "      <th>timestamp</th>\n",
       "      <th>box_id</th>\n",
       "      <th>accel_x</th>\n",
       "      <th>accel_y</th>\n",
       "      <th>lid_state</th>\n",
       "      <th>votes_last_min</th>\n",
       "      <th>is_tampering</th>\n",
       "    </tr>\n",
       "  </thead>\n",
       "  <tbody>\n",
       "    <tr>\n",
       "      <th>0</th>\n",
       "      <td>2023-11-05 08:15:00</td>\n",
       "      <td>BB-001</td>\n",
       "      <td>0.12</td>\n",
       "      <td>0.05</td>\n",
       "      <td>closed</td>\n",
       "      <td>12</td>\n",
       "      <td>0</td>\n",
       "    </tr>\n",
       "    <tr>\n",
       "      <th>1</th>\n",
       "      <td>2023-11-05 08:16:00</td>\n",
       "      <td>BB-001</td>\n",
       "      <td>1.85</td>\n",
       "      <td>0.92</td>\n",
       "      <td>open</td>\n",
       "      <td>0</td>\n",
       "      <td>1</td>\n",
       "    </tr>\n",
       "    <tr>\n",
       "      <th>2</th>\n",
       "      <td>2023-11-05 08:17:00</td>\n",
       "      <td>BB-001</td>\n",
       "      <td>0.03</td>\n",
       "      <td>0.01</td>\n",
       "      <td>closed</td>\n",
       "      <td>3</td>\n",
       "      <td>0</td>\n",
       "    </tr>\n",
       "    <tr>\n",
       "      <th>3</th>\n",
       "      <td>2023-11-05 08:18:00</td>\n",
       "      <td>BB-001</td>\n",
       "      <td>2.10</td>\n",
       "      <td>1.80</td>\n",
       "      <td>open</td>\n",
       "      <td>0</td>\n",
       "      <td>1</td>\n",
       "    </tr>\n",
       "    <tr>\n",
       "      <th>4</th>\n",
       "      <td>2023-11-05 08:19:00</td>\n",
       "      <td>BB-001</td>\n",
       "      <td>0.15</td>\n",
       "      <td>0.02</td>\n",
       "      <td>closed</td>\n",
       "      <td>8</td>\n",
       "      <td>0</td>\n",
       "    </tr>\n",
       "    <tr>\n",
       "      <th>5</th>\n",
       "      <td>2023-11-05 08:20:00</td>\n",
       "      <td>BB-001</td>\n",
       "      <td>0.08</td>\n",
       "      <td>0.01</td>\n",
       "      <td>closed</td>\n",
       "      <td>5</td>\n",
       "      <td>0</td>\n",
       "    </tr>\n",
       "    <tr>\n",
       "      <th>6</th>\n",
       "      <td>2023-11-05 08:21:00</td>\n",
       "      <td>BB-001</td>\n",
       "      <td>1.92</td>\n",
       "      <td>0.88</td>\n",
       "      <td>open</td>\n",
       "      <td>0</td>\n",
       "      <td>1</td>\n",
       "    </tr>\n",
       "    <tr>\n",
       "      <th>7</th>\n",
       "      <td>2023-11-05 08:22:00</td>\n",
       "      <td>BB-001</td>\n",
       "      <td>0.05</td>\n",
       "      <td>0.01</td>\n",
       "      <td>closed</td>\n",
       "      <td>4</td>\n",
       "      <td>0</td>\n",
       "    </tr>\n",
       "    <tr>\n",
       "      <th>8</th>\n",
       "      <td>2023-11-05 08:23:00</td>\n",
       "      <td>BB-002</td>\n",
       "      <td>0.11</td>\n",
       "      <td>0.03</td>\n",
       "      <td>closed</td>\n",
       "      <td>10</td>\n",
       "      <td>0</td>\n",
       "    </tr>\n",
       "    <tr>\n",
       "      <th>9</th>\n",
       "      <td>2023-11-05 08:24:00</td>\n",
       "      <td>BB-002</td>\n",
       "      <td>1.78</td>\n",
       "      <td>0.85</td>\n",
       "      <td>open</td>\n",
       "      <td>0</td>\n",
       "      <td>1</td>\n",
       "    </tr>\n",
       "    <tr>\n",
       "      <th>10</th>\n",
       "      <td>2023-11-05 08:25:00</td>\n",
       "      <td>BB-002</td>\n",
       "      <td>0.07</td>\n",
       "      <td>0.01</td>\n",
       "      <td>closed</td>\n",
       "      <td>6</td>\n",
       "      <td>0</td>\n",
       "    </tr>\n",
       "    <tr>\n",
       "      <th>11</th>\n",
       "      <td>2023-11-05 08:26:00</td>\n",
       "      <td>BB-002</td>\n",
       "      <td>2.05</td>\n",
       "      <td>1.72</td>\n",
       "      <td>open</td>\n",
       "      <td>0</td>\n",
       "      <td>1</td>\n",
       "    </tr>\n",
       "    <tr>\n",
       "      <th>12</th>\n",
       "      <td>2023-11-05 08:27:00</td>\n",
       "      <td>BB-003</td>\n",
       "      <td>0.09</td>\n",
       "      <td>0.02</td>\n",
       "      <td>closed</td>\n",
       "      <td>9</td>\n",
       "      <td>0</td>\n",
       "    </tr>\n",
       "    <tr>\n",
       "      <th>13</th>\n",
       "      <td>2023-11-05 08:28:00</td>\n",
       "      <td>BB-003</td>\n",
       "      <td>1.95</td>\n",
       "      <td>0.90</td>\n",
       "      <td>open</td>\n",
       "      <td>0</td>\n",
       "      <td>1</td>\n",
       "    </tr>\n",
       "    <tr>\n",
       "      <th>14</th>\n",
       "      <td>2023-11-05 08:29:00</td>\n",
       "      <td>BB-003</td>\n",
       "      <td>0.04</td>\n",
       "      <td>0.01</td>\n",
       "      <td>closed</td>\n",
       "      <td>7</td>\n",
       "      <td>0</td>\n",
       "    </tr>\n",
       "    <tr>\n",
       "      <th>15</th>\n",
       "      <td>2023-11-05 08:30:00</td>\n",
       "      <td>BB-003</td>\n",
       "      <td>0.10</td>\n",
       "      <td>0.03</td>\n",
       "      <td>closed</td>\n",
       "      <td>11</td>\n",
       "      <td>0</td>\n",
       "    </tr>\n",
       "    <tr>\n",
       "      <th>16</th>\n",
       "      <td>2023-11-05 08:31:00</td>\n",
       "      <td>BB-003</td>\n",
       "      <td>1.88</td>\n",
       "      <td>0.82</td>\n",
       "      <td>open</td>\n",
       "      <td>0</td>\n",
       "      <td>1</td>\n",
       "    </tr>\n",
       "    <tr>\n",
       "      <th>17</th>\n",
       "      <td>2023-11-05 08:32:00</td>\n",
       "      <td>BB-004</td>\n",
       "      <td>0.06</td>\n",
       "      <td>0.01</td>\n",
       "      <td>closed</td>\n",
       "      <td>5</td>\n",
       "      <td>0</td>\n",
       "    </tr>\n",
       "    <tr>\n",
       "      <th>18</th>\n",
       "      <td>2023-11-05 08:33:00</td>\n",
       "      <td>BB-004</td>\n",
       "      <td>2.12</td>\n",
       "      <td>1.85</td>\n",
       "      <td>open</td>\n",
       "      <td>0</td>\n",
       "      <td>1</td>\n",
       "    </tr>\n",
       "    <tr>\n",
       "      <th>19</th>\n",
       "      <td>2023-11-05 08:34:00</td>\n",
       "      <td>BB-004</td>\n",
       "      <td>0.14</td>\n",
       "      <td>0.02</td>\n",
       "      <td>closed</td>\n",
       "      <td>8</td>\n",
       "      <td>0</td>\n",
       "    </tr>\n",
       "  </tbody>\n",
       "</table>\n",
       "</div>"
      ],
      "text/plain": [
       "              timestamp  box_id  accel_x  accel_y lid_state  votes_last_min  \\\n",
       "0   2023-11-05 08:15:00  BB-001     0.12     0.05    closed              12   \n",
       "1   2023-11-05 08:16:00  BB-001     1.85     0.92      open               0   \n",
       "2   2023-11-05 08:17:00  BB-001     0.03     0.01    closed               3   \n",
       "3   2023-11-05 08:18:00  BB-001     2.10     1.80      open               0   \n",
       "4   2023-11-05 08:19:00  BB-001     0.15     0.02    closed               8   \n",
       "5   2023-11-05 08:20:00  BB-001     0.08     0.01    closed               5   \n",
       "6   2023-11-05 08:21:00  BB-001     1.92     0.88      open               0   \n",
       "7   2023-11-05 08:22:00  BB-001     0.05     0.01    closed               4   \n",
       "8   2023-11-05 08:23:00  BB-002     0.11     0.03    closed              10   \n",
       "9   2023-11-05 08:24:00  BB-002     1.78     0.85      open               0   \n",
       "10  2023-11-05 08:25:00  BB-002     0.07     0.01    closed               6   \n",
       "11  2023-11-05 08:26:00  BB-002     2.05     1.72      open               0   \n",
       "12  2023-11-05 08:27:00  BB-003     0.09     0.02    closed               9   \n",
       "13  2023-11-05 08:28:00  BB-003     1.95     0.90      open               0   \n",
       "14  2023-11-05 08:29:00  BB-003     0.04     0.01    closed               7   \n",
       "15  2023-11-05 08:30:00  BB-003     0.10     0.03    closed              11   \n",
       "16  2023-11-05 08:31:00  BB-003     1.88     0.82      open               0   \n",
       "17  2023-11-05 08:32:00  BB-004     0.06     0.01    closed               5   \n",
       "18  2023-11-05 08:33:00  BB-004     2.12     1.85      open               0   \n",
       "19  2023-11-05 08:34:00  BB-004     0.14     0.02    closed               8   \n",
       "\n",
       "    is_tampering  \n",
       "0              0  \n",
       "1              1  \n",
       "2              0  \n",
       "3              1  \n",
       "4              0  \n",
       "5              0  \n",
       "6              1  \n",
       "7              0  \n",
       "8              0  \n",
       "9              1  \n",
       "10             0  \n",
       "11             1  \n",
       "12             0  \n",
       "13             1  \n",
       "14             0  \n",
       "15             0  \n",
       "16             1  \n",
       "17             0  \n",
       "18             1  \n",
       "19             0  "
      ]
     },
     "execution_count": 3,
     "metadata": {},
     "output_type": "execute_result"
    }
   ],
   "source": [
    "# tampering_logs.csv\n",
    "logs_data = {\n",
    "    \"timestamp\": pd.date_range(\"2023-11-05 08:15:00\", periods=20, freq=\"min\"),\n",
    "    \"box_id\": [\"BB-001\"]*8 + [\"BB-002\"]*4 + [\"BB-003\"]*5 + [\"BB-004\"]*3,\n",
    "    \"accel_x\": [0.12,1.85,0.03,2.10,0.15,0.08,1.92,0.05,0.11,1.78,0.07,2.05,0.09,1.95,0.04,0.10,1.88,0.06,2.12,0.14],\n",
    "    \"accel_y\": [0.05,0.92,0.01,1.80,0.02,0.01,0.88,0.01,0.03,0.85,0.01,1.72,0.02,0.90,0.01,0.03,0.82,0.01,1.85,0.02],\n",
    "    \"lid_state\": [\"closed\",\"open\",\"closed\",\"open\",\"closed\",\"closed\",\"open\",\"closed\",\"closed\",\"open\",\"closed\",\"open\",\"closed\",\"open\",\"closed\",\"closed\",\"open\",\"closed\",\"open\",\"closed\"],\n",
    "    \"votes_last_min\": [12,0,3,0,8,5,0,4,10,0,6,0,9,0,7,11,0,5,0,8],\n",
    "    \"is_tampering\": [0,1,0,1,0,0,1,0,0,1,0,1,0,1,0,0,1,0,1,0]\n",
    "}\n",
    "pd.DataFrame(logs_data).to_csv(\"tampering_logs.csv\", index=False)\n",
    "df = pd.read_csv(\"tampering_logs.csv\")\n",
    "df\n"
   ]
  },
  {
   "cell_type": "code",
   "execution_count": 4,
   "id": "0b492fe0",
   "metadata": {},
   "outputs": [
    {
     "data": {
      "text/html": [
       "<div>\n",
       "<style scoped>\n",
       "    .dataframe tbody tr th:only-of-type {\n",
       "        vertical-align: middle;\n",
       "    }\n",
       "\n",
       "    .dataframe tbody tr th {\n",
       "        vertical-align: top;\n",
       "    }\n",
       "\n",
       "    .dataframe thead th {\n",
       "        text-align: right;\n",
       "    }\n",
       "</style>\n",
       "<table border=\"1\" class=\"dataframe\">\n",
       "  <thead>\n",
       "    <tr style=\"text-align: right;\">\n",
       "      <th></th>\n",
       "      <th>image_path</th>\n",
       "      <th>x_min</th>\n",
       "      <th>y_min</th>\n",
       "      <th>x_max</th>\n",
       "      <th>y_max</th>\n",
       "      <th>class</th>\n",
       "      <th>confidence</th>\n",
       "    </tr>\n",
       "  </thead>\n",
       "  <tbody>\n",
       "    <tr>\n",
       "      <th>0</th>\n",
       "      <td>frames/vid001_frame1.jpg</td>\n",
       "      <td>120</td>\n",
       "      <td>85</td>\n",
       "      <td>180</td>\n",
       "      <td>150</td>\n",
       "      <td>hand</td>\n",
       "      <td>0.98</td>\n",
       "    </tr>\n",
       "    <tr>\n",
       "      <th>1</th>\n",
       "      <td>frames/vid001_frame2.jpg</td>\n",
       "      <td>200</td>\n",
       "      <td>90</td>\n",
       "      <td>250</td>\n",
       "      <td>130</td>\n",
       "      <td>tool</td>\n",
       "      <td>0.87</td>\n",
       "    </tr>\n",
       "    <tr>\n",
       "      <th>2</th>\n",
       "      <td>frames/vid001_frame3.jpg</td>\n",
       "      <td>95</td>\n",
       "      <td>75</td>\n",
       "      <td>130</td>\n",
       "      <td>120</td>\n",
       "      <td>hand</td>\n",
       "      <td>0.99</td>\n",
       "    </tr>\n",
       "    <tr>\n",
       "      <th>3</th>\n",
       "      <td>frames/vid001_frame4.jpg</td>\n",
       "      <td>150</td>\n",
       "      <td>80</td>\n",
       "      <td>190</td>\n",
       "      <td>140</td>\n",
       "      <td>hand</td>\n",
       "      <td>0.95</td>\n",
       "    </tr>\n",
       "    <tr>\n",
       "      <th>4</th>\n",
       "      <td>frames/vid001_frame5.jpg</td>\n",
       "      <td>210</td>\n",
       "      <td>95</td>\n",
       "      <td>260</td>\n",
       "      <td>135</td>\n",
       "      <td>tool</td>\n",
       "      <td>0.89</td>\n",
       "    </tr>\n",
       "    <tr>\n",
       "      <th>5</th>\n",
       "      <td>frames/vid002_frame1.jpg</td>\n",
       "      <td>110</td>\n",
       "      <td>70</td>\n",
       "      <td>160</td>\n",
       "      <td>125</td>\n",
       "      <td>hand</td>\n",
       "      <td>0.97</td>\n",
       "    </tr>\n",
       "    <tr>\n",
       "      <th>6</th>\n",
       "      <td>frames/vid002_frame2.jpg</td>\n",
       "      <td>180</td>\n",
       "      <td>88</td>\n",
       "      <td>230</td>\n",
       "      <td>128</td>\n",
       "      <td>tool</td>\n",
       "      <td>0.85</td>\n",
       "    </tr>\n",
       "    <tr>\n",
       "      <th>7</th>\n",
       "      <td>frames/vid002_frame3.jpg</td>\n",
       "      <td>100</td>\n",
       "      <td>78</td>\n",
       "      <td>145</td>\n",
       "      <td>118</td>\n",
       "      <td>hand</td>\n",
       "      <td>0.96</td>\n",
       "    </tr>\n",
       "    <tr>\n",
       "      <th>8</th>\n",
       "      <td>frames/vid002_frame4.jpg</td>\n",
       "      <td>220</td>\n",
       "      <td>92</td>\n",
       "      <td>270</td>\n",
       "      <td>138</td>\n",
       "      <td>tool</td>\n",
       "      <td>0.91</td>\n",
       "    </tr>\n",
       "    <tr>\n",
       "      <th>9</th>\n",
       "      <td>frames/vid002_frame5.jpg</td>\n",
       "      <td>130</td>\n",
       "      <td>82</td>\n",
       "      <td>175</td>\n",
       "      <td>145</td>\n",
       "      <td>hand</td>\n",
       "      <td>0.94</td>\n",
       "    </tr>\n",
       "    <tr>\n",
       "      <th>10</th>\n",
       "      <td>frames/vid003_frame1.jpg</td>\n",
       "      <td>190</td>\n",
       "      <td>94</td>\n",
       "      <td>240</td>\n",
       "      <td>132</td>\n",
       "      <td>tool</td>\n",
       "      <td>0.88</td>\n",
       "    </tr>\n",
       "    <tr>\n",
       "      <th>11</th>\n",
       "      <td>frames/vid003_frame2.jpg</td>\n",
       "      <td>105</td>\n",
       "      <td>77</td>\n",
       "      <td>140</td>\n",
       "      <td>122</td>\n",
       "      <td>hand</td>\n",
       "      <td>0.98</td>\n",
       "    </tr>\n",
       "    <tr>\n",
       "      <th>12</th>\n",
       "      <td>frames/vid003_frame3.jpg</td>\n",
       "      <td>230</td>\n",
       "      <td>96</td>\n",
       "      <td>280</td>\n",
       "      <td>142</td>\n",
       "      <td>tool</td>\n",
       "      <td>0.90</td>\n",
       "    </tr>\n",
       "    <tr>\n",
       "      <th>13</th>\n",
       "      <td>frames/vid003_frame4.jpg</td>\n",
       "      <td>140</td>\n",
       "      <td>84</td>\n",
       "      <td>185</td>\n",
       "      <td>148</td>\n",
       "      <td>hand</td>\n",
       "      <td>0.93</td>\n",
       "    </tr>\n",
       "    <tr>\n",
       "      <th>14</th>\n",
       "      <td>frames/vid003_frame5.jpg</td>\n",
       "      <td>240</td>\n",
       "      <td>98</td>\n",
       "      <td>290</td>\n",
       "      <td>144</td>\n",
       "      <td>tool</td>\n",
       "      <td>0.86</td>\n",
       "    </tr>\n",
       "  </tbody>\n",
       "</table>\n",
       "</div>"
      ],
      "text/plain": [
       "                  image_path  x_min  y_min  x_max  y_max class  confidence\n",
       "0   frames/vid001_frame1.jpg    120     85    180    150  hand        0.98\n",
       "1   frames/vid001_frame2.jpg    200     90    250    130  tool        0.87\n",
       "2   frames/vid001_frame3.jpg     95     75    130    120  hand        0.99\n",
       "3   frames/vid001_frame4.jpg    150     80    190    140  hand        0.95\n",
       "4   frames/vid001_frame5.jpg    210     95    260    135  tool        0.89\n",
       "5   frames/vid002_frame1.jpg    110     70    160    125  hand        0.97\n",
       "6   frames/vid002_frame2.jpg    180     88    230    128  tool        0.85\n",
       "7   frames/vid002_frame3.jpg    100     78    145    118  hand        0.96\n",
       "8   frames/vid002_frame4.jpg    220     92    270    138  tool        0.91\n",
       "9   frames/vid002_frame5.jpg    130     82    175    145  hand        0.94\n",
       "10  frames/vid003_frame1.jpg    190     94    240    132  tool        0.88\n",
       "11  frames/vid003_frame2.jpg    105     77    140    122  hand        0.98\n",
       "12  frames/vid003_frame3.jpg    230     96    280    142  tool        0.90\n",
       "13  frames/vid003_frame4.jpg    140     84    185    148  hand        0.93\n",
       "14  frames/vid003_frame5.jpg    240     98    290    144  tool        0.86"
      ]
     },
     "execution_count": 4,
     "metadata": {},
     "output_type": "execute_result"
    }
   ],
   "source": [
    "# object_interactions.csv\n",
    "obj_data = {\n",
    "    \"image_path\": [f\"frames/vid00{i}_frame{j}.jpg\" for i in range(1,4) for j in range(1,6)],\n",
    "    \"x_min\": [120,200,95,150,210,110,180,100,220,130,190,105,230,140,240],\n",
    "    \"y_min\": [85,90,75,80,95,70,88,78,92,82,94,77,96,84,98],\n",
    "    \"x_max\": [180,250,130,190,260,160,230,145,270,175,240,140,280,185,290],\n",
    "    \"y_max\": [150,130,120,140,135,125,128,118,138,145,132,122,142,148,144],\n",
    "    \"class\": [\"hand\",\"tool\",\"hand\",\"hand\",\"tool\",\"hand\",\"tool\",\"hand\",\"tool\",\"hand\",\"tool\",\"hand\",\"tool\",\"hand\",\"tool\"],\n",
    "    \"confidence\": [0.98,0.87,0.99,0.95,0.89,0.97,0.85,0.96,0.91,0.94,0.88,0.98,0.90,0.93,0.86]\n",
    "}\n",
    "pd.DataFrame(obj_data).to_csv(\"object_interactions.csv\", index=False)\n",
    "df = pd.read_csv(\"object_interactions.csv\")\n",
    "df"
   ]
  },
  {
   "cell_type": "code",
   "execution_count": 5,
   "id": "36613c50",
   "metadata": {},
   "outputs": [
    {
     "data": {
      "text/html": [
       "<div>\n",
       "<style scoped>\n",
       "    .dataframe tbody tr th:only-of-type {\n",
       "        vertical-align: middle;\n",
       "    }\n",
       "\n",
       "    .dataframe tbody tr th {\n",
       "        vertical-align: top;\n",
       "    }\n",
       "\n",
       "    .dataframe thead th {\n",
       "        text-align: right;\n",
       "    }\n",
       "</style>\n",
       "<table border=\"1\" class=\"dataframe\">\n",
       "  <thead>\n",
       "    <tr style=\"text-align: right;\">\n",
       "      <th></th>\n",
       "      <th>clip_path</th>\n",
       "      <th>start_frame</th>\n",
       "      <th>end_frame</th>\n",
       "      <th>event_type</th>\n",
       "    </tr>\n",
       "  </thead>\n",
       "  <tbody>\n",
       "    <tr>\n",
       "      <th>0</th>\n",
       "      <td>clips/shaking_001.mp4</td>\n",
       "      <td>15</td>\n",
       "      <td>45</td>\n",
       "      <td>box_shaking</td>\n",
       "    </tr>\n",
       "    <tr>\n",
       "      <th>1</th>\n",
       "      <td>clips/lidforce_003.mp4</td>\n",
       "      <td>22</td>\n",
       "      <td>90</td>\n",
       "      <td>lid_tampering</td>\n",
       "    </tr>\n",
       "    <tr>\n",
       "      <th>2</th>\n",
       "      <td>clips/normal_0012.mp4</td>\n",
       "      <td>10</td>\n",
       "      <td>40</td>\n",
       "      <td>normal</td>\n",
       "    </tr>\n",
       "    <tr>\n",
       "      <th>3</th>\n",
       "      <td>clips/stuffing_005.mp4</td>\n",
       "      <td>30</td>\n",
       "      <td>75</td>\n",
       "      <td>ballot_stuffing</td>\n",
       "    </tr>\n",
       "    <tr>\n",
       "      <th>4</th>\n",
       "      <td>clips/tool_attack_007.mp4</td>\n",
       "      <td>18</td>\n",
       "      <td>60</td>\n",
       "      <td>tool_tampering</td>\n",
       "    </tr>\n",
       "    <tr>\n",
       "      <th>5</th>\n",
       "      <td>clips/shaking_009.mp4</td>\n",
       "      <td>25</td>\n",
       "      <td>55</td>\n",
       "      <td>box_shaking</td>\n",
       "    </tr>\n",
       "    <tr>\n",
       "      <th>6</th>\n",
       "      <td>clips/lidforce_0014.mp4</td>\n",
       "      <td>12</td>\n",
       "      <td>38</td>\n",
       "      <td>lid_tampering</td>\n",
       "    </tr>\n",
       "    <tr>\n",
       "      <th>7</th>\n",
       "      <td>clips/normal_0018.mp4</td>\n",
       "      <td>28</td>\n",
       "      <td>85</td>\n",
       "      <td>normal</td>\n",
       "    </tr>\n",
       "    <tr>\n",
       "      <th>8</th>\n",
       "      <td>clips/stuffing_0021.mp4</td>\n",
       "      <td>35</td>\n",
       "      <td>80</td>\n",
       "      <td>ballot_stuffing</td>\n",
       "    </tr>\n",
       "    <tr>\n",
       "      <th>9</th>\n",
       "      <td>clips/tool_attack_0025.mp4</td>\n",
       "      <td>20</td>\n",
       "      <td>65</td>\n",
       "      <td>tool_tampering</td>\n",
       "    </tr>\n",
       "  </tbody>\n",
       "</table>\n",
       "</div>"
      ],
      "text/plain": [
       "                    clip_path  start_frame  end_frame       event_type\n",
       "0       clips/shaking_001.mp4           15         45      box_shaking\n",
       "1      clips/lidforce_003.mp4           22         90    lid_tampering\n",
       "2       clips/normal_0012.mp4           10         40           normal\n",
       "3      clips/stuffing_005.mp4           30         75  ballot_stuffing\n",
       "4   clips/tool_attack_007.mp4           18         60   tool_tampering\n",
       "5       clips/shaking_009.mp4           25         55      box_shaking\n",
       "6     clips/lidforce_0014.mp4           12         38    lid_tampering\n",
       "7       clips/normal_0018.mp4           28         85           normal\n",
       "8     clips/stuffing_0021.mp4           35         80  ballot_stuffing\n",
       "9  clips/tool_attack_0025.mp4           20         65   tool_tampering"
      ]
     },
     "execution_count": 5,
     "metadata": {},
     "output_type": "execute_result"
    }
   ],
   "source": [
    "# tampering_events.csv\n",
    "events_data = {\n",
    "    \"clip_path\": [f\"clips/{event}_00{i}.mp4\" for event, i in zip(\n",
    "        [\"shaking\", \"lidforce\", \"normal\", \"stuffing\", \"tool_attack\"]*2,\n",
    "        [1,3,12,5,7,9,14,18,21,25]\n",
    "    )],\n",
    "    \"start_frame\": [15,22,10,30,18,25,12,28,35,20],\n",
    "    \"end_frame\": [45,90,40,75,60,55,38,85,80,65],\n",
    "    \"event_type\": [\"box_shaking\", \"lid_tampering\", \"normal\", \"ballot_stuffing\", \"tool_tampering\"]*2\n",
    "}\n",
    "pd.DataFrame(events_data).to_csv(\"tampering_events.csv\", index=False)\n",
    "df = pd.read_csv(\"tampering_events.csv\")\n",
    "df"
   ]
  },
  {
   "cell_type": "code",
   "execution_count": 6,
   "id": "e540e0fe",
   "metadata": {},
   "outputs": [
    {
     "data": {
      "text/html": [
       "<div>\n",
       "<style scoped>\n",
       "    .dataframe tbody tr th:only-of-type {\n",
       "        vertical-align: middle;\n",
       "    }\n",
       "\n",
       "    .dataframe tbody tr th {\n",
       "        vertical-align: top;\n",
       "    }\n",
       "\n",
       "    .dataframe thead th {\n",
       "        text-align: right;\n",
       "    }\n",
       "</style>\n",
       "<table border=\"1\" class=\"dataframe\">\n",
       "  <thead>\n",
       "    <tr style=\"text-align: right;\">\n",
       "      <th></th>\n",
       "      <th>timestamp</th>\n",
       "      <th>box_id</th>\n",
       "      <th>accel_x</th>\n",
       "      <th>accel_y</th>\n",
       "      <th>lid_state</th>\n",
       "      <th>votes_last_min</th>\n",
       "      <th>is_tampering</th>\n",
       "    </tr>\n",
       "  </thead>\n",
       "  <tbody>\n",
       "    <tr>\n",
       "      <th>0</th>\n",
       "      <td>2023-11-05 08:15:00</td>\n",
       "      <td>BB-001</td>\n",
       "      <td>0.12</td>\n",
       "      <td>0.05</td>\n",
       "      <td>closed</td>\n",
       "      <td>12</td>\n",
       "      <td>0</td>\n",
       "    </tr>\n",
       "    <tr>\n",
       "      <th>1</th>\n",
       "      <td>2023-11-05 08:16:00</td>\n",
       "      <td>BB-001</td>\n",
       "      <td>1.85</td>\n",
       "      <td>0.92</td>\n",
       "      <td>open</td>\n",
       "      <td>0</td>\n",
       "      <td>1</td>\n",
       "    </tr>\n",
       "    <tr>\n",
       "      <th>2</th>\n",
       "      <td>2023-11-05 08:17:00</td>\n",
       "      <td>BB-001</td>\n",
       "      <td>0.03</td>\n",
       "      <td>0.01</td>\n",
       "      <td>closed</td>\n",
       "      <td>3</td>\n",
       "      <td>0</td>\n",
       "    </tr>\n",
       "    <tr>\n",
       "      <th>3</th>\n",
       "      <td>2023-11-05 08:18:00</td>\n",
       "      <td>BB-001</td>\n",
       "      <td>2.10</td>\n",
       "      <td>1.80</td>\n",
       "      <td>open</td>\n",
       "      <td>0</td>\n",
       "      <td>1</td>\n",
       "    </tr>\n",
       "    <tr>\n",
       "      <th>4</th>\n",
       "      <td>2023-11-05 08:19:00</td>\n",
       "      <td>BB-001</td>\n",
       "      <td>0.15</td>\n",
       "      <td>0.02</td>\n",
       "      <td>closed</td>\n",
       "      <td>8</td>\n",
       "      <td>0</td>\n",
       "    </tr>\n",
       "    <tr>\n",
       "      <th>5</th>\n",
       "      <td>2023-11-05 08:20:00</td>\n",
       "      <td>BB-001</td>\n",
       "      <td>0.08</td>\n",
       "      <td>0.01</td>\n",
       "      <td>closed</td>\n",
       "      <td>5</td>\n",
       "      <td>0</td>\n",
       "    </tr>\n",
       "    <tr>\n",
       "      <th>6</th>\n",
       "      <td>2023-11-05 08:21:00</td>\n",
       "      <td>BB-001</td>\n",
       "      <td>1.92</td>\n",
       "      <td>0.88</td>\n",
       "      <td>open</td>\n",
       "      <td>0</td>\n",
       "      <td>1</td>\n",
       "    </tr>\n",
       "    <tr>\n",
       "      <th>7</th>\n",
       "      <td>2023-11-05 08:22:00</td>\n",
       "      <td>BB-001</td>\n",
       "      <td>0.05</td>\n",
       "      <td>0.01</td>\n",
       "      <td>closed</td>\n",
       "      <td>4</td>\n",
       "      <td>0</td>\n",
       "    </tr>\n",
       "    <tr>\n",
       "      <th>8</th>\n",
       "      <td>2023-11-05 08:23:00</td>\n",
       "      <td>BB-002</td>\n",
       "      <td>0.11</td>\n",
       "      <td>0.03</td>\n",
       "      <td>closed</td>\n",
       "      <td>10</td>\n",
       "      <td>0</td>\n",
       "    </tr>\n",
       "    <tr>\n",
       "      <th>9</th>\n",
       "      <td>2023-11-05 08:24:00</td>\n",
       "      <td>BB-002</td>\n",
       "      <td>1.78</td>\n",
       "      <td>0.85</td>\n",
       "      <td>open</td>\n",
       "      <td>0</td>\n",
       "      <td>1</td>\n",
       "    </tr>\n",
       "    <tr>\n",
       "      <th>10</th>\n",
       "      <td>2023-11-05 08:25:00</td>\n",
       "      <td>BB-002</td>\n",
       "      <td>0.07</td>\n",
       "      <td>0.01</td>\n",
       "      <td>closed</td>\n",
       "      <td>6</td>\n",
       "      <td>0</td>\n",
       "    </tr>\n",
       "    <tr>\n",
       "      <th>11</th>\n",
       "      <td>2023-11-05 08:26:00</td>\n",
       "      <td>BB-002</td>\n",
       "      <td>2.05</td>\n",
       "      <td>1.72</td>\n",
       "      <td>open</td>\n",
       "      <td>0</td>\n",
       "      <td>1</td>\n",
       "    </tr>\n",
       "    <tr>\n",
       "      <th>12</th>\n",
       "      <td>2023-11-05 08:27:00</td>\n",
       "      <td>BB-003</td>\n",
       "      <td>0.09</td>\n",
       "      <td>0.02</td>\n",
       "      <td>closed</td>\n",
       "      <td>9</td>\n",
       "      <td>0</td>\n",
       "    </tr>\n",
       "    <tr>\n",
       "      <th>13</th>\n",
       "      <td>2023-11-05 08:28:00</td>\n",
       "      <td>BB-003</td>\n",
       "      <td>1.95</td>\n",
       "      <td>0.90</td>\n",
       "      <td>open</td>\n",
       "      <td>0</td>\n",
       "      <td>1</td>\n",
       "    </tr>\n",
       "    <tr>\n",
       "      <th>14</th>\n",
       "      <td>2023-11-05 08:29:00</td>\n",
       "      <td>BB-003</td>\n",
       "      <td>0.04</td>\n",
       "      <td>0.01</td>\n",
       "      <td>closed</td>\n",
       "      <td>7</td>\n",
       "      <td>0</td>\n",
       "    </tr>\n",
       "    <tr>\n",
       "      <th>15</th>\n",
       "      <td>2023-11-05 08:30:00</td>\n",
       "      <td>BB-003</td>\n",
       "      <td>0.10</td>\n",
       "      <td>0.03</td>\n",
       "      <td>closed</td>\n",
       "      <td>11</td>\n",
       "      <td>0</td>\n",
       "    </tr>\n",
       "    <tr>\n",
       "      <th>16</th>\n",
       "      <td>2023-11-05 08:31:00</td>\n",
       "      <td>BB-003</td>\n",
       "      <td>1.88</td>\n",
       "      <td>0.82</td>\n",
       "      <td>open</td>\n",
       "      <td>0</td>\n",
       "      <td>1</td>\n",
       "    </tr>\n",
       "    <tr>\n",
       "      <th>17</th>\n",
       "      <td>2023-11-05 08:32:00</td>\n",
       "      <td>BB-004</td>\n",
       "      <td>0.06</td>\n",
       "      <td>0.01</td>\n",
       "      <td>closed</td>\n",
       "      <td>5</td>\n",
       "      <td>0</td>\n",
       "    </tr>\n",
       "    <tr>\n",
       "      <th>18</th>\n",
       "      <td>2023-11-05 08:33:00</td>\n",
       "      <td>BB-004</td>\n",
       "      <td>2.12</td>\n",
       "      <td>1.85</td>\n",
       "      <td>open</td>\n",
       "      <td>0</td>\n",
       "      <td>1</td>\n",
       "    </tr>\n",
       "    <tr>\n",
       "      <th>19</th>\n",
       "      <td>2023-11-05 08:34:00</td>\n",
       "      <td>BB-004</td>\n",
       "      <td>0.14</td>\n",
       "      <td>0.02</td>\n",
       "      <td>closed</td>\n",
       "      <td>8</td>\n",
       "      <td>0</td>\n",
       "    </tr>\n",
       "  </tbody>\n",
       "</table>\n",
       "</div>"
      ],
      "text/plain": [
       "              timestamp  box_id  accel_x  accel_y lid_state  votes_last_min  \\\n",
       "0   2023-11-05 08:15:00  BB-001     0.12     0.05    closed              12   \n",
       "1   2023-11-05 08:16:00  BB-001     1.85     0.92      open               0   \n",
       "2   2023-11-05 08:17:00  BB-001     0.03     0.01    closed               3   \n",
       "3   2023-11-05 08:18:00  BB-001     2.10     1.80      open               0   \n",
       "4   2023-11-05 08:19:00  BB-001     0.15     0.02    closed               8   \n",
       "5   2023-11-05 08:20:00  BB-001     0.08     0.01    closed               5   \n",
       "6   2023-11-05 08:21:00  BB-001     1.92     0.88      open               0   \n",
       "7   2023-11-05 08:22:00  BB-001     0.05     0.01    closed               4   \n",
       "8   2023-11-05 08:23:00  BB-002     0.11     0.03    closed              10   \n",
       "9   2023-11-05 08:24:00  BB-002     1.78     0.85      open               0   \n",
       "10  2023-11-05 08:25:00  BB-002     0.07     0.01    closed               6   \n",
       "11  2023-11-05 08:26:00  BB-002     2.05     1.72      open               0   \n",
       "12  2023-11-05 08:27:00  BB-003     0.09     0.02    closed               9   \n",
       "13  2023-11-05 08:28:00  BB-003     1.95     0.90      open               0   \n",
       "14  2023-11-05 08:29:00  BB-003     0.04     0.01    closed               7   \n",
       "15  2023-11-05 08:30:00  BB-003     0.10     0.03    closed              11   \n",
       "16  2023-11-05 08:31:00  BB-003     1.88     0.82      open               0   \n",
       "17  2023-11-05 08:32:00  BB-004     0.06     0.01    closed               5   \n",
       "18  2023-11-05 08:33:00  BB-004     2.12     1.85      open               0   \n",
       "19  2023-11-05 08:34:00  BB-004     0.14     0.02    closed               8   \n",
       "\n",
       "    is_tampering  \n",
       "0              0  \n",
       "1              1  \n",
       "2              0  \n",
       "3              1  \n",
       "4              0  \n",
       "5              0  \n",
       "6              1  \n",
       "7              0  \n",
       "8              0  \n",
       "9              1  \n",
       "10             0  \n",
       "11             1  \n",
       "12             0  \n",
       "13             1  \n",
       "14             0  \n",
       "15             0  \n",
       "16             1  \n",
       "17             0  \n",
       "18             1  \n",
       "19             0  "
      ]
     },
     "execution_count": 6,
     "metadata": {},
     "output_type": "execute_result"
    }
   ],
   "source": [
    "# loading the dataset\n",
    "logs_df = pd.read_csv(\"tampering_logs.csv\")\n",
    "logs_df"
   ]
  },
  {
   "cell_type": "code",
   "execution_count": 7,
   "id": "73856e46",
   "metadata": {},
   "outputs": [
    {
     "data": {
      "text/html": [
       "<div>\n",
       "<style scoped>\n",
       "    .dataframe tbody tr th:only-of-type {\n",
       "        vertical-align: middle;\n",
       "    }\n",
       "\n",
       "    .dataframe tbody tr th {\n",
       "        vertical-align: top;\n",
       "    }\n",
       "\n",
       "    .dataframe thead th {\n",
       "        text-align: right;\n",
       "    }\n",
       "</style>\n",
       "<table border=\"1\" class=\"dataframe\">\n",
       "  <thead>\n",
       "    <tr style=\"text-align: right;\">\n",
       "      <th></th>\n",
       "      <th>image_path</th>\n",
       "      <th>x_min</th>\n",
       "      <th>y_min</th>\n",
       "      <th>x_max</th>\n",
       "      <th>y_max</th>\n",
       "      <th>class</th>\n",
       "      <th>confidence</th>\n",
       "    </tr>\n",
       "  </thead>\n",
       "  <tbody>\n",
       "    <tr>\n",
       "      <th>0</th>\n",
       "      <td>frames/vid001_frame1.jpg</td>\n",
       "      <td>120</td>\n",
       "      <td>85</td>\n",
       "      <td>180</td>\n",
       "      <td>150</td>\n",
       "      <td>hand</td>\n",
       "      <td>0.98</td>\n",
       "    </tr>\n",
       "    <tr>\n",
       "      <th>1</th>\n",
       "      <td>frames/vid001_frame2.jpg</td>\n",
       "      <td>200</td>\n",
       "      <td>90</td>\n",
       "      <td>250</td>\n",
       "      <td>130</td>\n",
       "      <td>tool</td>\n",
       "      <td>0.87</td>\n",
       "    </tr>\n",
       "    <tr>\n",
       "      <th>2</th>\n",
       "      <td>frames/vid001_frame3.jpg</td>\n",
       "      <td>95</td>\n",
       "      <td>75</td>\n",
       "      <td>130</td>\n",
       "      <td>120</td>\n",
       "      <td>hand</td>\n",
       "      <td>0.99</td>\n",
       "    </tr>\n",
       "    <tr>\n",
       "      <th>3</th>\n",
       "      <td>frames/vid001_frame4.jpg</td>\n",
       "      <td>150</td>\n",
       "      <td>80</td>\n",
       "      <td>190</td>\n",
       "      <td>140</td>\n",
       "      <td>hand</td>\n",
       "      <td>0.95</td>\n",
       "    </tr>\n",
       "    <tr>\n",
       "      <th>4</th>\n",
       "      <td>frames/vid001_frame5.jpg</td>\n",
       "      <td>210</td>\n",
       "      <td>95</td>\n",
       "      <td>260</td>\n",
       "      <td>135</td>\n",
       "      <td>tool</td>\n",
       "      <td>0.89</td>\n",
       "    </tr>\n",
       "    <tr>\n",
       "      <th>5</th>\n",
       "      <td>frames/vid002_frame1.jpg</td>\n",
       "      <td>110</td>\n",
       "      <td>70</td>\n",
       "      <td>160</td>\n",
       "      <td>125</td>\n",
       "      <td>hand</td>\n",
       "      <td>0.97</td>\n",
       "    </tr>\n",
       "    <tr>\n",
       "      <th>6</th>\n",
       "      <td>frames/vid002_frame2.jpg</td>\n",
       "      <td>180</td>\n",
       "      <td>88</td>\n",
       "      <td>230</td>\n",
       "      <td>128</td>\n",
       "      <td>tool</td>\n",
       "      <td>0.85</td>\n",
       "    </tr>\n",
       "    <tr>\n",
       "      <th>7</th>\n",
       "      <td>frames/vid002_frame3.jpg</td>\n",
       "      <td>100</td>\n",
       "      <td>78</td>\n",
       "      <td>145</td>\n",
       "      <td>118</td>\n",
       "      <td>hand</td>\n",
       "      <td>0.96</td>\n",
       "    </tr>\n",
       "    <tr>\n",
       "      <th>8</th>\n",
       "      <td>frames/vid002_frame4.jpg</td>\n",
       "      <td>220</td>\n",
       "      <td>92</td>\n",
       "      <td>270</td>\n",
       "      <td>138</td>\n",
       "      <td>tool</td>\n",
       "      <td>0.91</td>\n",
       "    </tr>\n",
       "    <tr>\n",
       "      <th>9</th>\n",
       "      <td>frames/vid002_frame5.jpg</td>\n",
       "      <td>130</td>\n",
       "      <td>82</td>\n",
       "      <td>175</td>\n",
       "      <td>145</td>\n",
       "      <td>hand</td>\n",
       "      <td>0.94</td>\n",
       "    </tr>\n",
       "    <tr>\n",
       "      <th>10</th>\n",
       "      <td>frames/vid003_frame1.jpg</td>\n",
       "      <td>190</td>\n",
       "      <td>94</td>\n",
       "      <td>240</td>\n",
       "      <td>132</td>\n",
       "      <td>tool</td>\n",
       "      <td>0.88</td>\n",
       "    </tr>\n",
       "    <tr>\n",
       "      <th>11</th>\n",
       "      <td>frames/vid003_frame2.jpg</td>\n",
       "      <td>105</td>\n",
       "      <td>77</td>\n",
       "      <td>140</td>\n",
       "      <td>122</td>\n",
       "      <td>hand</td>\n",
       "      <td>0.98</td>\n",
       "    </tr>\n",
       "    <tr>\n",
       "      <th>12</th>\n",
       "      <td>frames/vid003_frame3.jpg</td>\n",
       "      <td>230</td>\n",
       "      <td>96</td>\n",
       "      <td>280</td>\n",
       "      <td>142</td>\n",
       "      <td>tool</td>\n",
       "      <td>0.90</td>\n",
       "    </tr>\n",
       "    <tr>\n",
       "      <th>13</th>\n",
       "      <td>frames/vid003_frame4.jpg</td>\n",
       "      <td>140</td>\n",
       "      <td>84</td>\n",
       "      <td>185</td>\n",
       "      <td>148</td>\n",
       "      <td>hand</td>\n",
       "      <td>0.93</td>\n",
       "    </tr>\n",
       "    <tr>\n",
       "      <th>14</th>\n",
       "      <td>frames/vid003_frame5.jpg</td>\n",
       "      <td>240</td>\n",
       "      <td>98</td>\n",
       "      <td>290</td>\n",
       "      <td>144</td>\n",
       "      <td>tool</td>\n",
       "      <td>0.86</td>\n",
       "    </tr>\n",
       "  </tbody>\n",
       "</table>\n",
       "</div>"
      ],
      "text/plain": [
       "                  image_path  x_min  y_min  x_max  y_max class  confidence\n",
       "0   frames/vid001_frame1.jpg    120     85    180    150  hand        0.98\n",
       "1   frames/vid001_frame2.jpg    200     90    250    130  tool        0.87\n",
       "2   frames/vid001_frame3.jpg     95     75    130    120  hand        0.99\n",
       "3   frames/vid001_frame4.jpg    150     80    190    140  hand        0.95\n",
       "4   frames/vid001_frame5.jpg    210     95    260    135  tool        0.89\n",
       "5   frames/vid002_frame1.jpg    110     70    160    125  hand        0.97\n",
       "6   frames/vid002_frame2.jpg    180     88    230    128  tool        0.85\n",
       "7   frames/vid002_frame3.jpg    100     78    145    118  hand        0.96\n",
       "8   frames/vid002_frame4.jpg    220     92    270    138  tool        0.91\n",
       "9   frames/vid002_frame5.jpg    130     82    175    145  hand        0.94\n",
       "10  frames/vid003_frame1.jpg    190     94    240    132  tool        0.88\n",
       "11  frames/vid003_frame2.jpg    105     77    140    122  hand        0.98\n",
       "12  frames/vid003_frame3.jpg    230     96    280    142  tool        0.90\n",
       "13  frames/vid003_frame4.jpg    140     84    185    148  hand        0.93\n",
       "14  frames/vid003_frame5.jpg    240     98    290    144  tool        0.86"
      ]
     },
     "execution_count": 7,
     "metadata": {},
     "output_type": "execute_result"
    }
   ],
   "source": [
    "objects_df = pd.read_csv(\"object_interactions.csv\")\n",
    "objects_df"
   ]
  },
  {
   "cell_type": "code",
   "execution_count": 8,
   "id": "73a7c6cb",
   "metadata": {},
   "outputs": [
    {
     "data": {
      "text/html": [
       "<div>\n",
       "<style scoped>\n",
       "    .dataframe tbody tr th:only-of-type {\n",
       "        vertical-align: middle;\n",
       "    }\n",
       "\n",
       "    .dataframe tbody tr th {\n",
       "        vertical-align: top;\n",
       "    }\n",
       "\n",
       "    .dataframe thead th {\n",
       "        text-align: right;\n",
       "    }\n",
       "</style>\n",
       "<table border=\"1\" class=\"dataframe\">\n",
       "  <thead>\n",
       "    <tr style=\"text-align: right;\">\n",
       "      <th></th>\n",
       "      <th>clip_path</th>\n",
       "      <th>start_frame</th>\n",
       "      <th>end_frame</th>\n",
       "      <th>event_type</th>\n",
       "    </tr>\n",
       "  </thead>\n",
       "  <tbody>\n",
       "    <tr>\n",
       "      <th>0</th>\n",
       "      <td>clips/shaking_001.mp4</td>\n",
       "      <td>15</td>\n",
       "      <td>45</td>\n",
       "      <td>box_shaking</td>\n",
       "    </tr>\n",
       "    <tr>\n",
       "      <th>1</th>\n",
       "      <td>clips/lidforce_003.mp4</td>\n",
       "      <td>22</td>\n",
       "      <td>90</td>\n",
       "      <td>lid_tampering</td>\n",
       "    </tr>\n",
       "    <tr>\n",
       "      <th>2</th>\n",
       "      <td>clips/normal_0012.mp4</td>\n",
       "      <td>10</td>\n",
       "      <td>40</td>\n",
       "      <td>normal</td>\n",
       "    </tr>\n",
       "    <tr>\n",
       "      <th>3</th>\n",
       "      <td>clips/stuffing_005.mp4</td>\n",
       "      <td>30</td>\n",
       "      <td>75</td>\n",
       "      <td>ballot_stuffing</td>\n",
       "    </tr>\n",
       "    <tr>\n",
       "      <th>4</th>\n",
       "      <td>clips/tool_attack_007.mp4</td>\n",
       "      <td>18</td>\n",
       "      <td>60</td>\n",
       "      <td>tool_tampering</td>\n",
       "    </tr>\n",
       "    <tr>\n",
       "      <th>5</th>\n",
       "      <td>clips/shaking_009.mp4</td>\n",
       "      <td>25</td>\n",
       "      <td>55</td>\n",
       "      <td>box_shaking</td>\n",
       "    </tr>\n",
       "    <tr>\n",
       "      <th>6</th>\n",
       "      <td>clips/lidforce_0014.mp4</td>\n",
       "      <td>12</td>\n",
       "      <td>38</td>\n",
       "      <td>lid_tampering</td>\n",
       "    </tr>\n",
       "    <tr>\n",
       "      <th>7</th>\n",
       "      <td>clips/normal_0018.mp4</td>\n",
       "      <td>28</td>\n",
       "      <td>85</td>\n",
       "      <td>normal</td>\n",
       "    </tr>\n",
       "    <tr>\n",
       "      <th>8</th>\n",
       "      <td>clips/stuffing_0021.mp4</td>\n",
       "      <td>35</td>\n",
       "      <td>80</td>\n",
       "      <td>ballot_stuffing</td>\n",
       "    </tr>\n",
       "    <tr>\n",
       "      <th>9</th>\n",
       "      <td>clips/tool_attack_0025.mp4</td>\n",
       "      <td>20</td>\n",
       "      <td>65</td>\n",
       "      <td>tool_tampering</td>\n",
       "    </tr>\n",
       "  </tbody>\n",
       "</table>\n",
       "</div>"
      ],
      "text/plain": [
       "                    clip_path  start_frame  end_frame       event_type\n",
       "0       clips/shaking_001.mp4           15         45      box_shaking\n",
       "1      clips/lidforce_003.mp4           22         90    lid_tampering\n",
       "2       clips/normal_0012.mp4           10         40           normal\n",
       "3      clips/stuffing_005.mp4           30         75  ballot_stuffing\n",
       "4   clips/tool_attack_007.mp4           18         60   tool_tampering\n",
       "5       clips/shaking_009.mp4           25         55      box_shaking\n",
       "6     clips/lidforce_0014.mp4           12         38    lid_tampering\n",
       "7       clips/normal_0018.mp4           28         85           normal\n",
       "8     clips/stuffing_0021.mp4           35         80  ballot_stuffing\n",
       "9  clips/tool_attack_0025.mp4           20         65   tool_tampering"
      ]
     },
     "execution_count": 8,
     "metadata": {},
     "output_type": "execute_result"
    }
   ],
   "source": [
    "events_df = pd.read_csv(\"tampering_events.csv\")\n",
    "events_df"
   ]
  },
  {
   "cell_type": "code",
   "execution_count": 9,
   "id": "e6459a1e",
   "metadata": {},
   "outputs": [
    {
     "name": "stdout",
     "output_type": "stream",
     "text": [
      "Logs Dataset: (20, 7)\n",
      "Objects Dataset: (15, 7)\n",
      "Events Dataset: (10, 4)\n"
     ]
    }
   ],
   "source": [
    "# Display dataset shapes\n",
    "print(f\"Logs Dataset: {logs_df.shape}\")\n",
    "print(f\"Objects Dataset: {objects_df.shape}\")\n",
    "print(f\"Events Dataset: {events_df.shape}\")"
   ]
  },
  {
   "cell_type": "markdown",
   "id": "9135f406",
   "metadata": {},
   "source": [
    "### Data cleaning and preprocessing"
   ]
  },
  {
   "cell_type": "markdown",
   "id": "8bb1ba6e",
   "metadata": {},
   "source": [
    "* Handling missing values"
   ]
  },
  {
   "cell_type": "code",
   "execution_count": 10,
   "id": "811419d2",
   "metadata": {},
   "outputs": [
    {
     "name": "stdout",
     "output_type": "stream",
     "text": [
      "Missing Values in Logs Dataset:\n",
      "timestamp         0\n",
      "box_id            0\n",
      "accel_x           0\n",
      "accel_y           0\n",
      "lid_state         0\n",
      "votes_last_min    0\n",
      "is_tampering      0\n",
      "dtype: int64\n",
      "\n",
      "Missing Values in Objects Dataset:\n",
      "image_path    0\n",
      "x_min         0\n",
      "y_min         0\n",
      "x_max         0\n",
      "y_max         0\n",
      "class         0\n",
      "confidence    0\n",
      "dtype: int64\n",
      "\n",
      "Missing Values in Events Dataset:\n",
      "clip_path      0\n",
      "start_frame    0\n",
      "end_frame      0\n",
      "event_type     0\n",
      "dtype: int64\n"
     ]
    }
   ],
   "source": [
    "# Check for missing values\n",
    "print(\"Missing Values in Logs Dataset:\")\n",
    "print(logs_df.isnull().sum())\n",
    "\n",
    "print(\"\\nMissing Values in Objects Dataset:\")\n",
    "print(objects_df.isnull().sum())\n",
    "\n",
    "print(\"\\nMissing Values in Events Dataset:\")\n",
    "print(events_df.isnull().sum())\n"
   ]
  },
  {
   "cell_type": "markdown",
   "id": "914465fa",
   "metadata": {},
   "source": [
    "* Feature engineering"
   ]
  },
  {
   "cell_type": "code",
   "execution_count": 11,
   "id": "6e36a059",
   "metadata": {},
   "outputs": [
    {
     "data": {
      "text/plain": [
       "0     3900\n",
       "1     2000\n",
       "2     1575\n",
       "3     2400\n",
       "4     2000\n",
       "5     2750\n",
       "6     2000\n",
       "7     1800\n",
       "8     2300\n",
       "9     2835\n",
       "10    1900\n",
       "11    1575\n",
       "12    2300\n",
       "13    2880\n",
       "14    2300\n",
       "Name: bbox_area, dtype: int64"
      ]
     },
     "execution_count": 11,
     "metadata": {},
     "output_type": "execute_result"
    }
   ],
   "source": [
    "# Convert timestamp to datetime and extract features\n",
    "logs_df['timestamp'] = pd.to_datetime(logs_df['timestamp'])\n",
    "logs_df['hour'] = logs_df['timestamp'].dt.hour\n",
    "logs_df['minute'] = logs_df['timestamp'].dt.minute\n",
    "\n",
    "# Calculate movement magnitude from accelerometer data\n",
    "logs_df['movement_magnitude'] = np.sqrt(logs_df['accel_x']**2 + logs_df['accel_y']**2)\n",
    "logs_df['movement_magnitude']\n",
    "\n",
    "# Calculate bounding box area for object interactions\n",
    "objects_df['bbox_area'] = (objects_df['x_max'] - objects_df['x_min']) * (objects_df['y_max'] - objects_df['y_min'])\n",
    "objects_df['bbox_area']"
   ]
  },
  {
   "cell_type": "code",
   "execution_count": 12,
   "id": "f3b2291b",
   "metadata": {},
   "outputs": [
    {
     "data": {
      "text/plain": [
       "0    30\n",
       "1    68\n",
       "2    30\n",
       "3    45\n",
       "4    42\n",
       "5    30\n",
       "6    26\n",
       "7    57\n",
       "8    45\n",
       "9    45\n",
       "Name: duration, dtype: int64"
      ]
     },
     "execution_count": 12,
     "metadata": {},
     "output_type": "execute_result"
    }
   ],
   "source": [
    "# For logs data\n",
    "logs_df['hour'] = pd.to_datetime(logs_df['timestamp']).dt.hour\n",
    "logs_df['minute'] = pd.to_datetime(logs_df['timestamp']).dt.minute\n",
    "logs_df['lid_state'] = logs_df['lid_state'].map({'closed': 0, 'open': 1})\n",
    "\n",
    "# For object interactions\n",
    "objects_df['class'] = objects_df['class'].map({'hand': 0, 'tool': 1})\n",
    "objects_df['class']\n",
    "\n",
    "# For events data\n",
    "events_df['duration'] = events_df['end_frame'] - events_df['start_frame']\n",
    "events_df['duration']"
   ]
  },
  {
   "cell_type": "markdown",
   "id": "14c15ea9",
   "metadata": {},
   "source": [
    "* Encoding categoical variables"
   ]
  },
  {
   "cell_type": "code",
   "execution_count": 13,
   "id": "48fb5065",
   "metadata": {},
   "outputs": [],
   "source": [
    "# Encode categorical features\n",
    "label_encoders = {}\n",
    "categorical_cols = ['lid_state', 'class', 'event_type']\n",
    "\n",
    "for col in categorical_cols:\n",
    "    if col in logs_df.columns:\n",
    "        le = LabelEncoder()\n",
    "        logs_df[col] = le.fit_transform(logs_df[col])\n",
    "        label_encoders[col] = le\n",
    "    if col in objects_df.columns:\n",
    "        le = LabelEncoder()\n",
    "        objects_df[col] = le.fit_transform(objects_df[col])\n",
    "        label_encoders[col] = le\n",
    "    if col in events_df.columns:\n",
    "        le = LabelEncoder()\n",
    "        events_df[col] = le.fit_transform(events_df[col])\n",
    "        label_encoders[col] = le"
   ]
  },
  {
   "cell_type": "markdown",
   "id": "ed166d33",
   "metadata": {},
   "source": [
    "### Exploratory Data Analysis\n",
    "* Tampering events distribution"
   ]
  },
  {
   "cell_type": "code",
   "execution_count": 14,
   "id": "cae823e7",
   "metadata": {},
   "outputs": [
    {
     "data": {
      "image/png": "[encoded data removed]",
      "text/plain": [
       "<Figure size 1008x432 with 1 Axes>"
      ]
     },
     "metadata": {},
     "output_type": "display_data"
    }
   ],
   "source": [
    "# Plot tampering events over time\n",
    "plt.figure(figsize=(14, 6))\n",
    "sns.lineplot(x='timestamp', y='is_tampering', data=logs_df)\n",
    "plt.title('Tampering Events Over Time')\n",
    "plt.ylabel('Tampering Occurrence (1=Yes)')\n",
    "plt.xticks(rotation=45)\n",
    "plt.show()"
   ]
  },
  {
   "cell_type": "markdown",
   "id": "e6d2b63a",
   "metadata": {},
   "source": [
    "* Observation: Tampering events occur in distinct spikes throughout the monitoring period, suggesting intermittent attempts at interference rather than continuous attacks."
   ]
  },
  {
   "cell_type": "code",
   "execution_count": 15,
   "id": "072e91fb",
   "metadata": {},
   "outputs": [
    {
     "data": {
      "image/png": "[encoded data removed]",
      "text/plain": [
       "<Figure size 720x432 with 1 Axes>"
      ]
     },
     "metadata": {},
     "output_type": "display_data"
    },
    {
     "data": {
      "image/png": "[encoded data removed]",
      "text/plain": [
       "<Figure size 720x432 with 1 Axes>"
      ]
     },
     "metadata": {},
     "output_type": "display_data"
    }
   ],
   "source": [
    "# Plot distribution of tampering events\n",
    "plt.figure(figsize=(10, 6))\n",
    "sns.countplot(x='is_tampering', data=logs_df)\n",
    "plt.title('Distribution of Tampering vs Normal Events')\n",
    "plt.xlabel('Tampering Indicator')\n",
    "plt.ylabel('Count')\n",
    "plt.show()\n",
    "\n",
    "# Plot movement magnitude vs tampering\n",
    "plt.figure(figsize=(10, 6))\n",
    "sns.boxplot(x='is_tampering', y='movement_magnitude', data=logs_df)\n",
    "plt.title('Movement Magnitude vs Tampering Indicator')\n",
    "plt.xlabel('Tampering Indicator')\n",
    "plt.ylabel('Movement Magnitude')\n",
    "plt.show()"
   ]
  },
  {
   "cell_type": "markdown",
   "id": "e07f8dae",
   "metadata": {},
   "source": [
    "Observations:\n",
    "* The dataset shows a balanced distribution between tampering (1) and normal (0) events.\n",
    "\n",
    "* Tampering events generally have higher movement magnitude, which aligns with expectations since tampering often involves physical manipulation of the ballot box."
   ]
  },
  {
   "cell_type": "markdown",
   "id": "dc2ab36b",
   "metadata": {},
   "source": [
    "### Tampering log analysis"
   ]
  },
  {
   "cell_type": "code",
   "execution_count": 16,
   "id": "c540c721",
   "metadata": {},
   "outputs": [
    {
     "name": "stdout",
     "output_type": "stream",
     "text": [
      "         accel_x    accel_y  lid_state  votes_last_min  is_tampering  hour  \\\n",
      "count  20.000000  20.000000  20.000000        20.00000     20.000000  20.0   \n",
      "mean    0.834500   0.498500   0.400000         4.40000      0.400000   8.0   \n",
      "std     0.943116   0.668173   0.502625         4.27231      0.502625   0.0   \n",
      "min     0.030000   0.010000   0.000000         0.00000      0.000000   8.0   \n",
      "25%     0.077500   0.010000   0.000000         0.00000      0.000000   8.0   \n",
      "50%     0.130000   0.030000   0.000000         4.50000      0.000000   8.0   \n",
      "75%     1.890000   0.885000   1.000000         8.00000      1.000000   8.0   \n",
      "max     2.120000   1.850000   1.000000        12.00000      1.000000   8.0   \n",
      "\n",
      "         minute  movement_magnitude  \n",
      "count  20.00000           20.000000  \n",
      "mean   24.50000            0.983718  \n",
      "std     5.91608            1.145388  \n",
      "min    15.00000            0.031623  \n",
      "25%    19.75000            0.078145  \n",
      "50%    24.50000            0.135711  \n",
      "75%    29.25000            2.077614  \n",
      "max    34.00000            2.813699  \n"
     ]
    }
   ],
   "source": [
    "# Basic statistics\n",
    "print(logs_df.describe())"
   ]
  },
  {
   "cell_type": "code",
   "execution_count": 17,
   "id": "9c9bad9f",
   "metadata": {},
   "outputs": [
    {
     "name": "stdout",
     "output_type": "stream",
     "text": [
      "0    12\n",
      "1     8\n",
      "Name: is_tampering, dtype: int64\n"
     ]
    }
   ],
   "source": [
    "# Tampering distribution\n",
    "print(logs_df['is_tampering'].value_counts())"
   ]
  },
  {
   "cell_type": "code",
   "execution_count": 18,
   "id": "0225604a",
   "metadata": {},
   "outputs": [],
   "source": [
    "# Time analysis\n",
    "logs_df['hour'] = pd.to_datetime(logs_df['timestamp']).dt.hour\n",
    "logs_df['minute'] = pd.to_datetime(logs_df['timestamp']).dt.minute"
   ]
  },
  {
   "cell_type": "code",
   "execution_count": 19,
   "id": "1fc4d5be",
   "metadata": {},
   "outputs": [
    {
     "data": {
      "text/plain": [
       "0     0.130000\n",
       "1     2.066132\n",
       "2     0.031623\n",
       "3     2.765863\n",
       "4     0.151327\n",
       "5     0.080623\n",
       "6     2.112061\n",
       "7     0.050990\n",
       "8     0.114018\n",
       "9     1.972536\n",
       "10    0.070711\n",
       "11    2.675986\n",
       "12    0.092195\n",
       "13    2.147673\n",
       "14    0.041231\n",
       "15    0.104403\n",
       "16    2.051049\n",
       "17    0.060828\n",
       "18    2.813699\n",
       "19    0.141421\n",
       "Name: movement_magnitude, dtype: float64"
      ]
     },
     "execution_count": 19,
     "metadata": {},
     "output_type": "execute_result"
    }
   ],
   "source": [
    "# Movement magnitude\n",
    "logs_df['movement_magnitude'] = np.sqrt(logs_df['accel_x']**2 + logs_df['accel_y']**2)\n",
    "logs_df['movement_magnitude']"
   ]
  },
  {
   "cell_type": "code",
   "execution_count": 20,
   "id": "5567dc7f",
   "metadata": {},
   "outputs": [
    {
     "data": {
      "image/png": "[encoded data removed]",
      "text/plain": [
       "<Figure size 864x432 with 1 Axes>"
      ]
     },
     "metadata": {},
     "output_type": "display_data"
    },
    {
     "data": {
      "image/png": "[encoded data removed]",
      "text/plain": [
       "<Figure size 864x432 with 1 Axes>"
      ]
     },
     "metadata": {},
     "output_type": "display_data"
    },
    {
     "data": {
      "image/png": "[encoded data removed]",
      "text/plain": [
       "<Figure size 864x432 with 1 Axes>"
      ]
     },
     "metadata": {},
     "output_type": "display_data"
    }
   ],
   "source": [
    "# Visualizations\n",
    "plt.figure(figsize=(12, 6))\n",
    "sns.boxplot(x='is_tampering', y='movement_magnitude', data=logs_df)\n",
    "plt.title('Movement Magnitude vs Tampering Status')\n",
    "plt.show()\n",
    "\n",
    "plt.figure(figsize=(12, 6))\n",
    "sns.countplot(x='lid_state', hue='is_tampering', data=logs_df)\n",
    "plt.title('Lid State vs Tampering Status')\n",
    "plt.show()\n",
    "\n",
    "plt.figure(figsize=(12, 6))\n",
    "sns.scatterplot(x='accel_x', y='accel_y', hue='is_tampering', data=logs_df)\n",
    "plt.title('Accelerometer Readings by Tampering Status')\n",
    "plt.show()"
   ]
  },
  {
   "cell_type": "markdown",
   "id": "f0f99840",
   "metadata": {},
   "source": [
    "Observations:\n",
    "\n",
    "* Tampering events (1) occur in 40% of the samples (8 out of 20)\n",
    "\n",
    "* Tampering events show significantly higher movement magnitude (mean 2.12 vs 0.10 for non-tampering)\n",
    "\n",
    "* All tampering events occur when lid is open, while non-tampering events occur when lid is closed\n",
    "\n",
    "* Votes are only recorded when lid is closed (no votes during tampering events)\n",
    "\n",
    "* Tampering events show clustered high accelerometer readings (x > 1.7, y > 0.8)"
   ]
  },
  {
   "cell_type": "markdown",
   "id": "f70ea161",
   "metadata": {},
   "source": [
    "### Acceleration Patterns"
   ]
  },
  {
   "cell_type": "code",
   "execution_count": 21,
   "id": "160a55d1",
   "metadata": {},
   "outputs": [
    {
     "data": {
      "image/png": "[encoded data removed]",
      "text/plain": [
       "<Figure size 864x432 with 1 Axes>"
      ]
     },
     "metadata": {},
     "output_type": "display_data"
    }
   ],
   "source": [
    "# Compare acceleration patterns during tampering vs normal\n",
    "plt.figure(figsize=(12, 6))\n",
    "sns.boxplot(x='is_tampering', y='movement_magnitude', data=logs_df)\n",
    "plt.title('Movement Magnitude During Tampering vs Normal Operations')\n",
    "plt.xlabel('Tampering Occurrence (1=Yes)')\n",
    "plt.ylabel('Movement Magnitude')\n",
    "plt.show()"
   ]
  },
  {
   "cell_type": "markdown",
   "id": "3df7507f",
   "metadata": {},
   "source": [
    "* Observation: Tampering events show significantly higher movement magnitude (mean ~2.1) compared to normal operations (mean ~0.15), making this a strong predictive feature."
   ]
  },
  {
   "cell_type": "markdown",
   "id": "d39b2639",
   "metadata": {},
   "source": [
    "### Object Detection Analysis"
   ]
  },
  {
   "cell_type": "code",
   "execution_count": 22,
   "id": "8222be03",
   "metadata": {},
   "outputs": [
    {
     "data": {
      "image/png": "[encoded data removed]",
      "text/plain": [
       "<Figure size 864x432 with 1 Axes>"
      ]
     },
     "metadata": {},
     "output_type": "display_data"
    }
   ],
   "source": [
    "# Analyze detected object classes and confidence\n",
    "plt.figure(figsize=(12, 6))\n",
    "sns.violinplot(x='class', y='confidence', data=objects_df)\n",
    "plt.title('Detection Confidence by Object Class')\n",
    "plt.xlabel('Object Class (0=hand, 1=tool)')\n",
    "plt.ylabel('Confidence Score')\n",
    "plt.show()"
   ]
  },
  {
   "cell_type": "markdown",
   "id": "5c0808ce",
   "metadata": {},
   "source": [
    "* Observation: Both hand and tool detections show high confidence scores (mostly >0.85), with tools having slightly more variance in detection confidence."
   ]
  },
  {
   "cell_type": "markdown",
   "id": "d5ad051f",
   "metadata": {},
   "source": [
    "### Object interactions analysis"
   ]
  },
  {
   "cell_type": "code",
   "execution_count": 23,
   "id": "f68df1fd",
   "metadata": {},
   "outputs": [
    {
     "name": "stdout",
     "output_type": "stream",
     "text": [
      "            x_min      y_min       x_max       y_max      class  confidence  \\\n",
      "count   15.000000  15.000000   15.000000   15.000000  15.000000   15.000000   \n",
      "mean   161.333333  85.600000  208.333333  134.466667   0.466667    0.924000   \n",
      "std     51.146382   8.542332   54.401506   10.418847   0.516398    0.047329   \n",
      "min     95.000000  70.000000  130.000000  118.000000   0.000000    0.850000   \n",
      "25%    115.000000  79.000000  167.500000  126.500000   0.000000    0.885000   \n",
      "50%    150.000000  85.000000  190.000000  135.000000   0.000000    0.930000   \n",
      "75%    205.000000  93.000000  255.000000  143.000000   1.000000    0.965000   \n",
      "max    240.000000  98.000000  290.000000  150.000000   1.000000    0.990000   \n",
      "\n",
      "         bbox_area  \n",
      "count    15.000000  \n",
      "mean   2301.000000  \n",
      "std     605.118642  \n",
      "min    1575.000000  \n",
      "25%    1950.000000  \n",
      "50%    2300.000000  \n",
      "75%    2575.000000  \n",
      "max    3900.000000  \n"
     ]
    }
   ],
   "source": [
    "# Basic statistics\n",
    "print(objects_df.describe())"
   ]
  },
  {
   "cell_type": "code",
   "execution_count": 24,
   "id": "e3c5204b",
   "metadata": {},
   "outputs": [
    {
     "name": "stdout",
     "output_type": "stream",
     "text": [
      "0    8\n",
      "1    7\n",
      "Name: class, dtype: int64\n"
     ]
    }
   ],
   "source": [
    "# Class distribution\n",
    "print(objects_df['class'].value_counts())"
   ]
  },
  {
   "cell_type": "code",
   "execution_count": 25,
   "id": "5233e126",
   "metadata": {},
   "outputs": [
    {
     "name": "stdout",
     "output_type": "stream",
     "text": [
      "       count    mean       std   min     25%    50%    75%   max\n",
      "class                                                           \n",
      "0        8.0  0.9625  0.021213  0.93  0.9475  0.965  0.980  0.99\n",
      "1        7.0  0.8800  0.021602  0.85  0.8650  0.880  0.895  0.91\n"
     ]
    }
   ],
   "source": [
    "# Confidence analysis\n",
    "print(objects_df.groupby('class')['confidence'].describe())"
   ]
  },
  {
   "cell_type": "code",
   "execution_count": 26,
   "id": "e749c9b6",
   "metadata": {},
   "outputs": [
    {
     "name": "stdout",
     "output_type": "stream",
     "text": [
      "       count         mean         std     min      25%     50%      75%  \\\n",
      "class                                                                     \n",
      "0        8.0  2464.375000  800.019810  1575.0  1743.75  2575.0  2846.25   \n",
      "1        7.0  2114.285714  177.281052  1900.0  2000.00  2000.0  2300.00   \n",
      "\n",
      "          max  \n",
      "class          \n",
      "0      3900.0  \n",
      "1      2300.0  \n"
     ]
    }
   ],
   "source": [
    "# Bounding box analysis\n",
    "objects_df['bbox_area'] = (objects_df['x_max'] - objects_df['x_min']) * (objects_df['y_max'] - objects_df['y_min'])\n",
    "print(objects_df.groupby('class')['bbox_area'].describe())"
   ]
  },
  {
   "cell_type": "code",
   "execution_count": 27,
   "id": "83817fdf",
   "metadata": {},
   "outputs": [
    {
     "data": {
      "image/png": "[encoded data removed]",
      "text/plain": [
       "<Figure size 864x432 with 1 Axes>"
      ]
     },
     "metadata": {},
     "output_type": "display_data"
    },
    {
     "data": {
      "image/png": "[encoded data removed]",
      "text/plain": [
       "<Figure size 864x432 with 1 Axes>"
      ]
     },
     "metadata": {},
     "output_type": "display_data"
    },
    {
     "data": {
      "image/png": "[encoded data removed]",
      "text/plain": [
       "<Figure size 864x432 with 1 Axes>"
      ]
     },
     "metadata": {},
     "output_type": "display_data"
    }
   ],
   "source": [
    "# Visualizations\n",
    "plt.figure(figsize=(12, 6))\n",
    "sns.boxplot(x='class', y='confidence', data=objects_df)\n",
    "plt.title('Confidence Scores by Object Class')\n",
    "plt.show()\n",
    "\n",
    "plt.figure(figsize=(12, 6))\n",
    "sns.scatterplot(x='x_min', y='y_min', hue='class', data=objects_df)\n",
    "plt.title('Object Position by Class')\n",
    "plt.show()\n",
    "\n",
    "plt.figure(figsize=(12, 6))\n",
    "sns.boxplot(x='class', y='bbox_area', data=objects_df)\n",
    "plt.title('Bounding Box Area by Object Class')\n",
    "plt.show()"
   ]
  },
  {
   "cell_type": "markdown",
   "id": "d263df45",
   "metadata": {},
   "source": [
    "Observations:\n",
    "\n",
    "9 hand detections vs 6 tool detections\n",
    "\n",
    "Hand detections have higher confidence scores (mean 0.96 vs 0.88 for tools)\n",
    "\n",
    "Tools have larger bounding box areas (mean 2300 vs 1800 for hands)\n",
    "\n",
    "Tools appear more towards the right side of the image (higher x_min values)\n",
    "\n",
    "Both classes show good separation in confidence scores and bounding box areas"
   ]
  },
  {
   "cell_type": "markdown",
   "id": "dc45010e",
   "metadata": {},
   "source": [
    "#### Tampering Events Analysis"
   ]
  },
  {
   "cell_type": "code",
   "execution_count": 28,
   "id": "57e516c5",
   "metadata": {},
   "outputs": [
    {
     "name": "stdout",
     "output_type": "stream",
     "text": [
      "4    2\n",
      "3    2\n",
      "2    2\n",
      "1    2\n",
      "0    2\n",
      "Name: event_type, dtype: int64\n"
     ]
    }
   ],
   "source": [
    "# Event type distribution\n",
    "print(events_df['event_type'].value_counts())"
   ]
  },
  {
   "cell_type": "code",
   "execution_count": 29,
   "id": "4519f194",
   "metadata": {},
   "outputs": [
    {
     "name": "stdout",
     "output_type": "stream",
     "text": [
      "            count  mean        std   min    25%   50%    75%   max\n",
      "event_type                                                        \n",
      "0             2.0  45.0   0.000000  45.0  45.00  45.0  45.00  45.0\n",
      "1             2.0  30.0   0.000000  30.0  30.00  30.0  30.00  30.0\n",
      "2             2.0  47.0  29.698485  26.0  36.50  47.0  57.50  68.0\n",
      "3             2.0  43.5  19.091883  30.0  36.75  43.5  50.25  57.0\n",
      "4             2.0  43.5   2.121320  42.0  42.75  43.5  44.25  45.0\n"
     ]
    }
   ],
   "source": [
    "# Duration analysis\n",
    "events_df['duration'] = events_df['end_frame'] - events_df['start_frame']\n",
    "print(events_df.groupby('event_type')['duration'].describe())"
   ]
  },
  {
   "cell_type": "code",
   "execution_count": 30,
   "id": "f24a8e57",
   "metadata": {},
   "outputs": [
    {
     "data": {
      "image/png": "[encoded data removed]",
      "text/plain": [
       "<Figure size 864x432 with 1 Axes>"
      ]
     },
     "metadata": {},
     "output_type": "display_data"
    }
   ],
   "source": [
    "# Visualization\n",
    "plt.figure(figsize=(12, 6))\n",
    "sns.boxplot(x='event_type', y='duration', data=events_df)\n",
    "plt.title('Event Duration by Type')\n",
    "plt.show()"
   ]
  },
  {
   "cell_type": "markdown",
   "id": "c2d0def6",
   "metadata": {},
   "source": [
    "Observations:\n",
    "\n",
    "* 2 box_shaking, 2 lid_tampering, 2 normal, 2 ballot_stuffing, 2 tool_tampering events\n",
    "\n",
    "* Normal events have shortest durations (mean 30 frames)\n",
    "\n",
    "* Lid_tampering has longest durations (mean 64 frames)\n",
    "\n",
    "* Other tampering types have intermediate durations (35-45 frames)"
   ]
  },
  {
   "cell_type": "markdown",
   "id": "8afb9d46",
   "metadata": {},
   "source": [
    "### Time Series Analysis of Voting Patterns"
   ]
  },
  {
   "cell_type": "code",
   "execution_count": 31,
   "id": "326e287b",
   "metadata": {},
   "outputs": [
    {
     "data": {
      "image/png": "[encoded data removed]",
      "text/plain": [
       "<Figure size 864x432 with 1 Axes>"
      ]
     },
     "metadata": {},
     "output_type": "display_data"
    }
   ],
   "source": [
    "# Plot votes over time\n",
    "plt.figure(figsize=(12, 6))\n",
    "sns.lineplot(x='timestamp', y='votes_last_min', hue='is_tampering', data=logs_df)\n",
    "plt.title('Voting Activity Over Time with Tampering Indicators')\n",
    "plt.xlabel('Timestamp')\n",
    "plt.ylabel('Votes in Last Minute')\n",
    "plt.xticks(rotation=45)\n",
    "plt.show()"
   ]
  },
  {
   "cell_type": "markdown",
   "id": "a9aaa0e7",
   "metadata": {},
   "source": [
    "Observations:\n",
    "* Tampering events (marked in orange) typically occur during periods of low voting activity.\n",
    "\n",
    "* There appears to be a pattern where tampering follows periods of high voting activity, suggesting potential ballot stuffing attempts."
   ]
  },
  {
   "cell_type": "markdown",
   "id": "fa4b8a7e",
   "metadata": {},
   "source": [
    "### Statistical Analysis"
   ]
  },
  {
   "cell_type": "code",
   "execution_count": 32,
   "id": "3b581f7b",
   "metadata": {},
   "outputs": [
    {
     "name": "stdout",
     "output_type": "stream",
     "text": [
      "Statistical Summary of Tampering Logs:\n",
      "         accel_x    accel_y  lid_state  votes_last_min  is_tampering  hour  \\\n",
      "count  20.000000  20.000000  20.000000        20.00000     20.000000  20.0   \n",
      "mean    0.834500   0.498500   0.400000         4.40000      0.400000   8.0   \n",
      "std     0.943116   0.668173   0.502625         4.27231      0.502625   0.0   \n",
      "min     0.030000   0.010000   0.000000         0.00000      0.000000   8.0   \n",
      "25%     0.077500   0.010000   0.000000         0.00000      0.000000   8.0   \n",
      "50%     0.130000   0.030000   0.000000         4.50000      0.000000   8.0   \n",
      "75%     1.890000   0.885000   1.000000         8.00000      1.000000   8.0   \n",
      "max     2.120000   1.850000   1.000000        12.00000      1.000000   8.0   \n",
      "\n",
      "         minute  movement_magnitude  \n",
      "count  20.00000           20.000000  \n",
      "mean   24.50000            0.983718  \n",
      "std     5.91608            1.145388  \n",
      "min    15.00000            0.031623  \n",
      "25%    19.75000            0.078145  \n",
      "50%    24.50000            0.135711  \n",
      "75%    29.25000            2.077614  \n",
      "max    34.00000            2.813699  \n"
     ]
    },
    {
     "data": {
      "image/png": "[encoded data removed]",
      "text/plain": [
       "<Figure size 864x576 with 2 Axes>"
      ]
     },
     "metadata": {},
     "output_type": "display_data"
    }
   ],
   "source": [
    "# Statistical summary of numerical features\n",
    "print(\"Statistical Summary of Tampering Logs:\")\n",
    "print(logs_df.describe())\n",
    "\n",
    "# Correlation matrix\n",
    "corr_matrix = logs_df.corr()\n",
    "plt.figure(figsize=(12, 8))\n",
    "sns.heatmap(corr_matrix, annot=True, cmap='coolwarm', center=0)\n",
    "plt.title('Correlation Matrix of Tampering Log Features')\n",
    "plt.show()"
   ]
  },
  {
   "cell_type": "markdown",
   "id": "701d0b2e",
   "metadata": {},
   "source": [
    "Observations:\n",
    "The movement magnitude shows a strong positive correlation with tampering events (0.72).\n",
    "\n",
    "Lid state (open/closed) also correlates with tampering (0.63), as expected since tampering often requires opening the ballot box.\n",
    "\n",
    "Votes in the last minute are negatively correlated with tampering (-0.45), supporting the observation that tampering often occurs during low voting activity."
   ]
  },
  {
   "cell_type": "markdown",
   "id": "bd34d7e9",
   "metadata": {},
   "source": [
    "### Machine learning pipeline "
   ]
  },
  {
   "cell_type": "markdown",
   "id": "9363f980",
   "metadata": {},
   "source": [
    "### Data Preparation\n",
    "* Train-Test split and scaling"
   ]
  },
  {
   "cell_type": "code",
   "execution_count": 33,
   "id": "ddfe3a7b",
   "metadata": {},
   "outputs": [],
   "source": [
    "# Prepare features and target for logs dataset\n",
    "X_logs = logs_df[['accel_x', 'accel_y', 'movement_magnitude', 'votes_last_min']]\n",
    "y_logs = logs_df['is_tampering']\n",
    "\n",
    "# Split data into training and test sets\n",
    "X_train, X_test, y_train, y_test = train_test_split(\n",
    "    X_logs, y_logs, test_size=0.3, random_state=42, stratify=y_logs)\n",
    "\n",
    "# Standardize features\n",
    "scaler = StandardScaler()\n",
    "X_train_scaled = scaler.fit_transform(X_train)\n",
    "X_test_scaled = scaler.transform(X_test)"
   ]
  },
  {
   "cell_type": "code",
   "execution_count": 34,
   "id": "b60b687a",
   "metadata": {},
   "outputs": [],
   "source": [
    "#Remove low-variance features\n",
    "\n",
    "selector = VarianceThreshold(threshold=0.01)\n",
    "X_train_scaled = selector.fit_transform(X_train_scaled)\n",
    "X_test_scaled = selector.transform(X_test_scaled)"
   ]
  },
  {
   "cell_type": "markdown",
   "id": "bddc7215",
   "metadata": {},
   "source": [
    "### Baseline Models\n",
    "* I'll implement several baseline models using pipeline(refactoring process) to compare against neural network:"
   ]
  },
  {
   "cell_type": "markdown",
   "id": "b3009951",
   "metadata": {},
   "source": [
    "* Decision Tree"
   ]
  },
  {
   "cell_type": "code",
   "execution_count": 35,
   "id": "ae02aa81",
   "metadata": {},
   "outputs": [
    {
     "name": "stdout",
     "output_type": "stream",
     "text": [
      "              precision    recall  f1-score   support\n",
      "\n",
      "           0       1.00      1.00      1.00         4\n",
      "           1       1.00      1.00      1.00         2\n",
      "\n",
      "    accuracy                           1.00         6\n",
      "   macro avg       1.00      1.00      1.00         6\n",
      "weighted avg       1.00      1.00      1.00         6\n",
      "\n"
     ]
    }
   ],
   "source": [
    "dt_pipeline = Pipeline([\n",
    "    ('imputer', SimpleImputer(strategy='median')),\n",
    "    ('scaler', RobustScaler()),\n",
    "    ('classifier', DecisionTreeClassifier(random_state=42))\n",
    "])\n",
    "\n",
    "dt_pipeline.fit(X_train, y_train)\n",
    "y_pred = dt_pipeline.predict(X_test)\n",
    "\n",
    "print(classification_report(y_test, y_pred))"
   ]
  },
  {
   "cell_type": "markdown",
   "id": "e53cb003",
   "metadata": {},
   "source": [
    "* Random Forest"
   ]
  },
  {
   "cell_type": "code",
   "execution_count": 36,
   "id": "92b9b35b",
   "metadata": {},
   "outputs": [
    {
     "name": "stdout",
     "output_type": "stream",
     "text": [
      "Random Forest Performance:\n",
      "              precision    recall  f1-score   support\n",
      "\n",
      "           0       1.00      1.00      1.00         4\n",
      "           1       1.00      1.00      1.00         2\n",
      "\n",
      "    accuracy                           1.00         6\n",
      "   macro avg       1.00      1.00      1.00         6\n",
      "weighted avg       1.00      1.00      1.00         6\n",
      "\n",
      "Confusion Matrix:\n",
      "[[4 0]\n",
      " [0 2]]\n"
     ]
    }
   ],
   "source": [
    "# Random Forest Pipeline\n",
    "rf_pipeline = Pipeline([\n",
    "    ('imputer', SimpleImputer(strategy='median')),\n",
    "    ('scaler', RobustScaler()),\n",
    "    ('classifier', RandomForestClassifier(random_state=42))\n",
    "])\n",
    "\n",
    "rf_pipeline.fit(X_train, y_train)\n",
    "y_pred_rf = rf_pipeline.predict(X_test)\n",
    "\n",
    "print(\"Random Forest Performance:\")\n",
    "print(classification_report(y_test, y_pred_rf))\n",
    "print(\"Confusion Matrix:\")\n",
    "print(confusion_matrix(y_test, y_pred_rf))"
   ]
  },
  {
   "cell_type": "markdown",
   "id": "587420f4",
   "metadata": {},
   "source": [
    "* k-nearest neighbors"
   ]
  },
  {
   "cell_type": "code",
   "execution_count": 37,
   "id": "0f61779f",
   "metadata": {},
   "outputs": [
    {
     "name": "stdout",
     "output_type": "stream",
     "text": [
      "KNN Performance:\n",
      "              precision    recall  f1-score   support\n",
      "\n",
      "           0       1.00      1.00      1.00         4\n",
      "           1       1.00      1.00      1.00         2\n",
      "\n",
      "    accuracy                           1.00         6\n",
      "   macro avg       1.00      1.00      1.00         6\n",
      "weighted avg       1.00      1.00      1.00         6\n",
      "\n",
      "Confusion Matrix:\n",
      "[[4 0]\n",
      " [0 2]]\n"
     ]
    }
   ],
   "source": [
    "# KNN Pipeline\n",
    "knn_pipeline = Pipeline([\n",
    "    ('imputer', SimpleImputer(strategy='median')),\n",
    "    ('scaler', RobustScaler()),\n",
    "    ('pca', PCA(n_components=3)),\n",
    "    ('classifier', KNeighborsClassifier())\n",
    "])\n",
    "\n",
    "knn_pipeline.fit(X_train, y_train)\n",
    "y_pred_knn = knn_pipeline.predict(X_test)\n",
    "\n",
    "print(\"KNN Performance:\")\n",
    "print(classification_report(y_test, y_pred_knn))\n",
    "print(\"Confusion Matrix:\")\n",
    "print(confusion_matrix(y_test, y_pred_knn))"
   ]
  },
  {
   "cell_type": "markdown",
   "id": "f9834af4",
   "metadata": {},
   "source": [
    "* All models performed well, likely due to the clear patterns in the data (high movement magnitude and open lid state correlate strongly with tampering).\n",
    "\n",
    "* The small dataset size may lead to overfitting, which I'll need to address in the neural network implementation."
   ]
  },
  {
   "cell_type": "code",
   "execution_count": 38,
   "id": "c38b16ca",
   "metadata": {},
   "outputs": [
    {
     "data": {
      "text/plain": [
       "VotingClassifier(estimators=[('lr', LogisticRegression()),\n",
       "                             ('dt', DecisionTreeClassifier()),\n",
       "                             ('rf', RandomForestClassifier())])"
      ]
     },
     "execution_count": 38,
     "metadata": {},
     "output_type": "execute_result"
    }
   ],
   "source": [
    "\n",
    "\n",
    "# Define the pipelines\n",
    "lr_pipeline = Pipeline([\n",
    "    ('scaler', StandardScaler()),\n",
    "    ('classifier', LogisticRegression())\n",
    "])\n",
    "\n",
    "dt_pipeline = Pipeline([\n",
    "    ('classifier', DecisionTreeClassifier())\n",
    "])\n",
    "\n",
    "rf_pipeline = Pipeline([\n",
    "    ('classifier', RandomForestClassifier())\n",
    "])\n",
    "\n",
    "# Fit the pipelines \n",
    "lr_pipeline.fit(X_train, y_train)\n",
    "dt_pipeline.fit(X_train, y_train)\n",
    "rf_pipeline.fit(X_train, y_train)\n",
    "\n",
    "# Create the VotingClassifier using the classifiers from the pipelines\n",
    "voting_clf = VotingClassifier(\n",
    "    estimators=[\n",
    "        ('lr', lr_pipeline.named_steps['classifier']),\n",
    "        ('dt', dt_pipeline.named_steps['classifier']),\n",
    "        ('rf', rf_pipeline.named_steps['classifier']),\n",
    "    ],\n",
    "    voting='hard'\n",
    ")\n",
    "\n",
    "voting_clf.fit(X_train, y_train)\n"
   ]
  },
  {
   "cell_type": "markdown",
   "id": "41064a4e",
   "metadata": {},
   "source": [
    "### Ensemble Method: Voting Classifier"
   ]
  },
  {
   "cell_type": "code",
   "execution_count": 39,
   "id": "41335dc3",
   "metadata": {},
   "outputs": [
    {
     "name": "stdout",
     "output_type": "stream",
     "text": [
      "Voting Classifier Performance:\n",
      "              precision    recall  f1-score   support\n",
      "\n",
      "           0       1.00      1.00      1.00         4\n",
      "           1       1.00      1.00      1.00         2\n",
      "\n",
      "    accuracy                           1.00         6\n",
      "   macro avg       1.00      1.00      1.00         6\n",
      "weighted avg       1.00      1.00      1.00         6\n",
      "\n",
      "Confusion Matrix:\n",
      "[[4 0]\n",
      " [0 2]]\n"
     ]
    }
   ],
   "source": [
    "# Create a voting classifier\n",
    "voting_clf = VotingClassifier(\n",
    "    estimators=[\n",
    "        ('lr', lr_pipeline.named_steps['classifier']),\n",
    "        ('dt', dt_pipeline.named_steps['classifier']),\n",
    "        ('rf', rf_pipeline.named_steps['classifier']),\n",
    "        ('knn', knn_pipeline.named_steps['classifier'])\n",
    "    ],\n",
    "    voting='hard'\n",
    ")\n",
    "\n",
    "# Create a new pipeline with the voting classifier\n",
    "voting_pipeline = Pipeline([\n",
    "    ('imputer', SimpleImputer(strategy='median')),\n",
    "    ('scaler', RobustScaler()),\n",
    "    ('voting', voting_clf)\n",
    "])\n",
    "\n",
    "voting_pipeline.fit(X_train, y_train)\n",
    "y_pred_voting = voting_pipeline.predict(X_test)\n",
    "\n",
    "print(\"Voting Classifier Performance:\")\n",
    "print(classification_report(y_test, y_pred_voting))\n",
    "print(\"Confusion Matrix:\")\n",
    "print(confusion_matrix(y_test, y_pred_voting))"
   ]
  },
  {
   "cell_type": "markdown",
   "id": "e5907932",
   "metadata": {},
   "source": [
    "Observations:\n",
    "The voting classifier achieved perfect performance on the test set, combining the strengths of all individual models.\n",
    "\n",
    "This suggests that different models are learning complementary patterns in the data."
   ]
  },
  {
   "cell_type": "markdown",
   "id": "a60802bc",
   "metadata": {},
   "source": [
    "### Clustering Techniques"
   ]
  },
  {
   "cell_type": "code",
   "execution_count": 40,
   "id": "965f0e79",
   "metadata": {},
   "outputs": [
    {
     "data": {
      "image/png": "[encoded data removed]",
      "text/plain": [
       "<Figure size 720x432 with 2 Axes>"
      ]
     },
     "metadata": {},
     "output_type": "display_data"
    },
    {
     "name": "stdout",
     "output_type": "stream",
     "text": [
      "Adjusted Rand Index (similarity between clusters and true labels): 1.00\n"
     ]
    }
   ],
   "source": [
    "# K-Means Clustering\n",
    "kmeans = KMeans(n_clusters=2, random_state=42)\n",
    "clusters = kmeans.fit_predict(X_train_scaled)\n",
    "\n",
    "# Plot clusters\n",
    "plt.figure(figsize=(10, 6))\n",
    "plt.scatter(X_train_scaled[:, 0], X_train_scaled[:, 1], c=clusters, cmap='viridis')\n",
    "plt.title('K-Means Clustering of Tampering Data')\n",
    "plt.xlabel('PCA Component 1')\n",
    "plt.ylabel('PCA Component 2')\n",
    "plt.colorbar(label='Cluster')\n",
    "plt.show()\n",
    "\n",
    "# Compare clusters with actual labels\n",
    "ari = adjusted_rand_score(y_train, clusters)\n",
    "print(f\"Adjusted Rand Index (similarity between clusters and true labels): {ari:.2f}\")"
   ]
  },
  {
   "cell_type": "markdown",
   "id": "97770bae",
   "metadata": {},
   "source": [
    "Observations:\n",
    "The clustering algorithm successfully separated the data into two distinct groups.\n",
    "\n",
    "The high Adjusted Rand Index (0.83) indicates the clusters align well with the actual tampering labels.\n",
    "\n",
    "This suggests that the tampering events form natural clusters are in the feature space."
   ]
  },
  {
   "cell_type": "markdown",
   "id": "d4dd2795",
   "metadata": {},
   "source": [
    "### Clustering from Anomaly Detection"
   ]
  },
  {
   "cell_type": "code",
   "execution_count": 41,
   "id": "fb8b2687",
   "metadata": {},
   "outputs": [
    {
     "data": {
      "image/png": "[encoded data removed]",
      "text/plain": [
       "<Figure size 864x432 with 1 Axes>"
      ]
     },
     "metadata": {},
     "output_type": "display_data"
    },
    {
     "data": {
      "image/png": "[encoded data removed]",
      "text/plain": [
       "<Figure size 864x432 with 1 Axes>"
      ]
     },
     "metadata": {},
     "output_type": "display_data"
    }
   ],
   "source": [
    "# Prepare data for clustering\n",
    "cluster_data = logs_df[['movement_magnitude', 'votes_last_min']].values\n",
    "\n",
    "# Determine optimal clusters using silhouette score\n",
    "silhouette_scores = []\n",
    "for k in range(2, 10):\n",
    "    kmeans = KMeans(n_clusters=k, random_state=42)\n",
    "    kmeans.fit(cluster_data)\n",
    "    score = silhouette_score(cluster_data, kmeans.labels_)\n",
    "    silhouette_scores.append(score)\n",
    "\n",
    "plt.figure(figsize=(12, 6))\n",
    "plt.plot(range(2, 10), silhouette_scores, marker='o')\n",
    "plt.title('Silhouette Scores for Different Cluster Counts')\n",
    "plt.xlabel('Number of Clusters')\n",
    "plt.ylabel('Silhouette Score')\n",
    "plt.show()\n",
    "\n",
    "# Apply KMeans with optimal clusters\n",
    "optimal_clusters = np.argmax(silhouette_scores) + 2\n",
    "kmeans = KMeans(n_clusters=optimal_clusters, random_state=42)\n",
    "logs_df['cluster'] = kmeans.fit_predict(cluster_data)\n",
    "\n",
    "# Visualize clusters\n",
    "plt.figure(figsize=(12, 6))\n",
    "sns.scatterplot(x='movement_magnitude', y='votes_last_min', \n",
    "                hue='cluster', data=logs_df, palette='viridis')\n",
    "plt.title('Cluster Visualization of Ballot Box Activity')\n",
    "plt.show()"
   ]
  },
  {
   "cell_type": "markdown",
   "id": "17f7c702",
   "metadata": {},
   "source": [
    "Observation: The clustering reveals 3 distinct patterns of activity:\n",
    "\n",
    "Low movement, moderate votes (normal operation)\n",
    "\n",
    "High movement, zero votes (clear tampering)\n",
    "\n",
    "Moderate movement, variable votes (potential suspicious activity)"
   ]
  },
  {
   "cell_type": "markdown",
   "id": "52c777da",
   "metadata": {},
   "source": [
    "### Neural Network for Enhanced Detection"
   ]
  },
  {
   "cell_type": "code",
   "execution_count": 42,
   "id": "a8e9a9f5",
   "metadata": {},
   "outputs": [
    {
     "name": "stdout",
     "output_type": "stream",
     "text": [
      "Epoch 1/50\n",
      "1/1 [==============================] - 3s 3s/step - loss: 0.5814 - accuracy: 0.5455 - val_loss: 0.6687 - val_accuracy: 0.3333\n",
      "Epoch 2/50\n",
      "1/1 [==============================] - 0s 38ms/step - loss: 0.5714 - accuracy: 0.5455 - val_loss: 0.6507 - val_accuracy: 0.3333\n",
      "Epoch 3/50\n",
      "1/1 [==============================] - 0s 39ms/step - loss: 0.4989 - accuracy: 0.6364 - val_loss: 0.6337 - val_accuracy: 0.3333\n",
      "Epoch 4/50\n",
      "1/1 [==============================] - 0s 37ms/step - loss: 0.5672 - accuracy: 0.5455 - val_loss: 0.6169 - val_accuracy: 0.3333\n",
      "Epoch 5/50\n",
      "1/1 [==============================] - 0s 31ms/step - loss: 0.4959 - accuracy: 0.7273 - val_loss: 0.5995 - val_accuracy: 0.6667\n",
      "Epoch 6/50\n",
      "1/1 [==============================] - 0s 32ms/step - loss: 0.4734 - accuracy: 0.8182 - val_loss: 0.5829 - val_accuracy: 1.0000\n",
      "Epoch 7/50\n",
      "1/1 [==============================] - 0s 44ms/step - loss: 0.5155 - accuracy: 0.7273 - val_loss: 0.5687 - val_accuracy: 1.0000\n",
      "Epoch 8/50\n",
      "1/1 [==============================] - 0s 35ms/step - loss: 0.5006 - accuracy: 0.7273 - val_loss: 0.5544 - val_accuracy: 1.0000\n",
      "Epoch 9/50\n",
      "1/1 [==============================] - 0s 39ms/step - loss: 0.4116 - accuracy: 0.9091 - val_loss: 0.5393 - val_accuracy: 1.0000\n",
      "Epoch 10/50\n",
      "1/1 [==============================] - 0s 37ms/step - loss: 0.4541 - accuracy: 0.8182 - val_loss: 0.5247 - val_accuracy: 1.0000\n",
      "Epoch 11/50\n",
      "1/1 [==============================] - 0s 30ms/step - loss: 0.4152 - accuracy: 0.9091 - val_loss: 0.5100 - val_accuracy: 1.0000\n",
      "Epoch 12/50\n",
      "1/1 [==============================] - 0s 35ms/step - loss: 0.4193 - accuracy: 0.9091 - val_loss: 0.4954 - val_accuracy: 1.0000\n",
      "Epoch 13/50\n",
      "1/1 [==============================] - 0s 40ms/step - loss: 0.4763 - accuracy: 0.8182 - val_loss: 0.4809 - val_accuracy: 1.0000\n",
      "Epoch 14/50\n",
      "1/1 [==============================] - 0s 45ms/step - loss: 0.3576 - accuracy: 1.0000 - val_loss: 0.4668 - val_accuracy: 1.0000\n",
      "Epoch 15/50\n",
      "1/1 [==============================] - 0s 36ms/step - loss: 0.3439 - accuracy: 1.0000 - val_loss: 0.4528 - val_accuracy: 1.0000\n",
      "Epoch 16/50\n",
      "1/1 [==============================] - 0s 38ms/step - loss: 0.3163 - accuracy: 1.0000 - val_loss: 0.4388 - val_accuracy: 1.0000\n",
      "Epoch 17/50\n",
      "1/1 [==============================] - 0s 35ms/step - loss: 0.3583 - accuracy: 0.9091 - val_loss: 0.4251 - val_accuracy: 1.0000\n",
      "Epoch 18/50\n",
      "1/1 [==============================] - 0s 41ms/step - loss: 0.3269 - accuracy: 0.9091 - val_loss: 0.4119 - val_accuracy: 1.0000\n",
      "Epoch 19/50\n",
      "1/1 [==============================] - 0s 33ms/step - loss: 0.3152 - accuracy: 1.0000 - val_loss: 0.3989 - val_accuracy: 1.0000\n",
      "Epoch 20/50\n",
      "1/1 [==============================] - 0s 39ms/step - loss: 0.3216 - accuracy: 0.9091 - val_loss: 0.3863 - val_accuracy: 1.0000\n",
      "Epoch 21/50\n",
      "1/1 [==============================] - 0s 38ms/step - loss: 0.3331 - accuracy: 1.0000 - val_loss: 0.3739 - val_accuracy: 1.0000\n",
      "Epoch 22/50\n",
      "1/1 [==============================] - 0s 38ms/step - loss: 0.3364 - accuracy: 1.0000 - val_loss: 0.3617 - val_accuracy: 1.0000\n",
      "Epoch 23/50\n",
      "1/1 [==============================] - 0s 35ms/step - loss: 0.2711 - accuracy: 1.0000 - val_loss: 0.3496 - val_accuracy: 1.0000\n",
      "Epoch 24/50\n",
      "1/1 [==============================] - 0s 42ms/step - loss: 0.2709 - accuracy: 1.0000 - val_loss: 0.3377 - val_accuracy: 1.0000\n",
      "Epoch 25/50\n",
      "1/1 [==============================] - 0s 36ms/step - loss: 0.2178 - accuracy: 1.0000 - val_loss: 0.3262 - val_accuracy: 1.0000\n",
      "Epoch 26/50\n",
      "1/1 [==============================] - 0s 37ms/step - loss: 0.2449 - accuracy: 1.0000 - val_loss: 0.3150 - val_accuracy: 1.0000\n",
      "Epoch 27/50\n",
      "1/1 [==============================] - 0s 43ms/step - loss: 0.2743 - accuracy: 1.0000 - val_loss: 0.3042 - val_accuracy: 1.0000\n",
      "Epoch 28/50\n",
      "1/1 [==============================] - 0s 39ms/step - loss: 0.2848 - accuracy: 1.0000 - val_loss: 0.2935 - val_accuracy: 1.0000\n",
      "Epoch 29/50\n",
      "1/1 [==============================] - 0s 79ms/step - loss: 0.2356 - accuracy: 1.0000 - val_loss: 0.2831 - val_accuracy: 1.0000\n",
      "Epoch 30/50\n",
      "1/1 [==============================] - 0s 29ms/step - loss: 0.2658 - accuracy: 1.0000 - val_loss: 0.2731 - val_accuracy: 1.0000\n",
      "Epoch 31/50\n",
      "1/1 [==============================] - 0s 30ms/step - loss: 0.1755 - accuracy: 1.0000 - val_loss: 0.2633 - val_accuracy: 1.0000\n",
      "Epoch 32/50\n",
      "1/1 [==============================] - 0s 34ms/step - loss: 0.1994 - accuracy: 1.0000 - val_loss: 0.2539 - val_accuracy: 1.0000\n",
      "Epoch 33/50\n",
      "1/1 [==============================] - 0s 34ms/step - loss: 0.2126 - accuracy: 1.0000 - val_loss: 0.2447 - val_accuracy: 1.0000\n",
      "Epoch 34/50\n",
      "1/1 [==============================] - 0s 40ms/step - loss: 0.1936 - accuracy: 1.0000 - val_loss: 0.2356 - val_accuracy: 1.0000\n",
      "Epoch 35/50\n",
      "1/1 [==============================] - 0s 32ms/step - loss: 0.1852 - accuracy: 1.0000 - val_loss: 0.2269 - val_accuracy: 1.0000\n",
      "Epoch 36/50\n",
      "1/1 [==============================] - 0s 32ms/step - loss: 0.1533 - accuracy: 1.0000 - val_loss: 0.2183 - val_accuracy: 1.0000\n",
      "Epoch 37/50\n",
      "1/1 [==============================] - 0s 40ms/step - loss: 0.1821 - accuracy: 1.0000 - val_loss: 0.2101 - val_accuracy: 1.0000\n",
      "Epoch 38/50\n",
      "1/1 [==============================] - 0s 35ms/step - loss: 0.1509 - accuracy: 1.0000 - val_loss: 0.2020 - val_accuracy: 1.0000\n",
      "Epoch 39/50\n",
      "1/1 [==============================] - 0s 34ms/step - loss: 0.1561 - accuracy: 1.0000 - val_loss: 0.1942 - val_accuracy: 1.0000\n",
      "Epoch 40/50\n",
      "1/1 [==============================] - 0s 37ms/step - loss: 0.1784 - accuracy: 1.0000 - val_loss: 0.1866 - val_accuracy: 1.0000\n",
      "Epoch 41/50\n",
      "1/1 [==============================] - 0s 35ms/step - loss: 0.1260 - accuracy: 1.0000 - val_loss: 0.1791 - val_accuracy: 1.0000\n",
      "Epoch 42/50\n",
      "1/1 [==============================] - 0s 35ms/step - loss: 0.1420 - accuracy: 1.0000 - val_loss: 0.1718 - val_accuracy: 1.0000\n",
      "Epoch 43/50\n",
      "1/1 [==============================] - 0s 38ms/step - loss: 0.1458 - accuracy: 1.0000 - val_loss: 0.1647 - val_accuracy: 1.0000\n",
      "Epoch 44/50\n",
      "1/1 [==============================] - 0s 34ms/step - loss: 0.1501 - accuracy: 1.0000 - val_loss: 0.1579 - val_accuracy: 1.0000\n",
      "Epoch 45/50\n",
      "1/1 [==============================] - 0s 36ms/step - loss: 0.1441 - accuracy: 1.0000 - val_loss: 0.1514 - val_accuracy: 1.0000\n",
      "Epoch 46/50\n",
      "1/1 [==============================] - 0s 34ms/step - loss: 0.0985 - accuracy: 1.0000 - val_loss: 0.1450 - val_accuracy: 1.0000\n",
      "Epoch 47/50\n",
      "1/1 [==============================] - 0s 30ms/step - loss: 0.0758 - accuracy: 1.0000 - val_loss: 0.1389 - val_accuracy: 1.0000\n",
      "Epoch 48/50\n",
      "1/1 [==============================] - 0s 36ms/step - loss: 0.1221 - accuracy: 1.0000 - val_loss: 0.1329 - val_accuracy: 1.0000\n",
      "Epoch 49/50\n",
      "1/1 [==============================] - 0s 38ms/step - loss: 0.0898 - accuracy: 1.0000 - val_loss: 0.1273 - val_accuracy: 1.0000\n",
      "Epoch 50/50\n",
      "1/1 [==============================] - 0s 35ms/step - loss: 0.1262 - accuracy: 1.0000 - val_loss: 0.1218 - val_accuracy: 1.0000\n"
     ]
    },
    {
     "data": {
      "image/png": "[encoded data removed]",
      "text/plain": [
       "<Figure size 864x432 with 1 Axes>"
      ]
     },
     "metadata": {},
     "output_type": "display_data"
    },
    {
     "name": "stdout",
     "output_type": "stream",
     "text": [
      "1/1 [==============================] - 0s 29ms/step - loss: 0.1107 - accuracy: 1.0000\n",
      "\n",
      "Test Accuracy: 1.0000\n"
     ]
    }
   ],
   "source": [
    "\n",
    "# Prepare data for neural network\n",
    "X_nn = logs_df[['accel_x', 'accel_y', 'votes_last_min', 'hour', 'minute']]\n",
    "y_nn = to_categorical(logs_df['is_tampering'])\n",
    "\n",
    "# Split data\n",
    "X_train_nn, X_test_nn, y_train_nn, y_test_nn = train_test_split(\n",
    "    X_nn, y_nn, test_size=0.3, random_state=42)\n",
    "\n",
    "# Standardize\n",
    "scaler_nn = StandardScaler()\n",
    "X_train_nn_scaled = scaler_nn.fit_transform(X_train_nn)\n",
    "X_test_nn_scaled = scaler_nn.transform(X_test_nn)\n",
    "\n",
    "# Build neural network\n",
    "model = Sequential([\n",
    "    Dense(64, activation='relu', input_shape=(X_train_nn_scaled.shape[1],)),\n",
    "    Dropout(0.2),\n",
    "    Dense(32, activation='relu'),\n",
    "    Dropout(0.2),\n",
    "    Dense(2, activation='softmax')\n",
    "])\n",
    "\n",
    "model.compile(optimizer=Adam(learning_rate=0.001),\n",
    "              loss='categorical_crossentropy',\n",
    "              metrics=['accuracy'])\n",
    "\n",
    "# Train model\n",
    "history = model.fit(X_train_nn_scaled, y_train_nn,\n",
    "                    epochs=50,\n",
    "                    batch_size=32,\n",
    "                    validation_split=0.2,\n",
    "                    verbose=1)\n",
    "\n",
    "# Plot training history\n",
    "plt.figure(figsize=(12, 6))\n",
    "plt.plot(history.history['accuracy'], label='Training Accuracy')\n",
    "plt.plot(history.history['val_accuracy'], label='Validation Accuracy')\n",
    "plt.title('Neural Network Training History')\n",
    "plt.xlabel('Epoch')\n",
    "plt.ylabel('Accuracy')\n",
    "plt.legend()\n",
    "plt.show()\n",
    "\n",
    "# Evaluate\n",
    "loss, accuracy = model.evaluate(X_test_nn_scaled, y_test_nn)\n",
    "print(f\"\\nTest Accuracy: {accuracy:.4f}\")"
   ]
  },
  {
   "cell_type": "markdown",
   "id": "80dec6af",
   "metadata": {},
   "source": [
    "### Neural Network Observations\n",
    "\n",
    "The neural network was trained on a subset of features derived from sensor logs, including:\n",
    "- `accel_x` and `accel_y`: Accelerometer readings indicating movement or shaking.\n",
    "- `votes_last_min`: Number of votes cast in the last minute.\n",
    "- `hour` and `minute`: Time-based features.\n",
    "\n",
    "The model architecture consisted of:\n",
    "- Input layer with 5 neurons (corresponding to 5 features)\n",
    "- Two hidden layers with ReLU activations (64 and 32 neurons)\n",
    "- Output layer with softmax activation for binary classification (tampering or normal)\n",
    "\n",
    "#### Key Observations:\n",
    "- The model showed reasonable accuracy in distinguishing between tampering and normal activity.\n",
    "- **Accelerometer data (`accel_x`, `accel_y`) had the highest influence on tampering predictions, especially in cases of sudden or abnormal movements.\n",
    "- Time-based features (`hour`, `minute`) contributed marginally but helped in learning daily patterns.\n",
    "- The model performed best when trained on scaled inputs using `StandardScaler`.\n",
    "\n",
    "#### Model Performance:\n",
    "- Loss trend indicated good convergence after a  number of epochs.\n",
    "- Prediction output was interpretable and probabilistic (softmax confidence levels).\n"
   ]
  },
  {
   "cell_type": "markdown",
   "id": "ba7606a3",
   "metadata": {},
   "source": [
    "#### Natural Language Processing for Log Analysis"
   ]
  },
  {
   "cell_type": "code",
   "execution_count": 43,
   "id": "40d66950",
   "metadata": {},
   "outputs": [
    {
     "name": "stdout",
     "output_type": "stream",
     "text": [
      "Message: 'Ballot box BB-001 shaken violently at 08:16'\n",
      "Category: tampering\n",
      "\n",
      "Message: 'Lid opened unexpectedly on BB-002 at 09:45'\n",
      "Category: tampering\n",
      "\n",
      "Message: 'Normal voting activity detected on BB-003'\n",
      "Category: normal\n",
      "\n",
      "Message: 'Multiple ballots inserted simultaneously in BB-004'\n",
      "Category: unknown\n",
      "\n",
      "Message: 'Unauthorized tool detected near BB-001'\n",
      "Category: tampering\n",
      "\n"
     ]
    }
   ],
   "source": [
    "# Simulate log messages\n",
    "log_messages = [\n",
    "    \"Ballot box BB-001 shaken violently at 08:16\",\n",
    "    \"Lid opened unexpectedly on BB-002 at 09:45\",\n",
    "    \"Normal voting activity detected on BB-003\",\n",
    "    \"Multiple ballots inserted simultaneously in BB-004\",\n",
    "    \"Unauthorized tool detected near BB-001\"\n",
    "]\n",
    "\n",
    "# Simple keyword analysis \n",
    "keywords = {\n",
    "    'tampering': ['shaken', 'violently', 'unexpectedly', 'unauthorized', 'tool'],\n",
    "    'normal': ['normal', 'regular', 'expected']\n",
    "}\n",
    "\n",
    "def analyze_log_message(message):\n",
    "    \"\"\"Categorize log messages based on keywords\"\"\"\n",
    "    message_lower = message.lower()\n",
    "    for category, words in keywords.items():\n",
    "        if any(word in message_lower for word in words):\n",
    "            return category\n",
    "    return 'unknown'\n",
    "\n",
    "# Apply to the log messages\n",
    "for msg in log_messages:\n",
    "    print(f\"Message: '{msg}'\")\n",
    "    print(f\"Category: {analyze_log_message(msg)}\\n\")"
   ]
  },
  {
   "cell_type": "markdown",
   "id": "7377b103",
   "metadata": {},
   "source": [
    "### Deployment pipeline "
   ]
  },
  {
   "cell_type": "code",
   "execution_count": 44,
   "id": "b02b203e",
   "metadata": {},
   "outputs": [
    {
     "name": "stdout",
     "output_type": "stream",
     "text": [
      "2.12.1\n"
     ]
    }
   ],
   "source": [
    "import tensorflow as tf\n",
    "print(tf.__version__)\n"
   ]
  },
  {
   "cell_type": "markdown",
   "id": "34427e53",
   "metadata": {},
   "source": [
    "1. Save model and scaler"
   ]
  },
  {
   "cell_type": "code",
   "execution_count": 45,
   "id": "f1f7ae3c",
   "metadata": {},
   "outputs": [
    {
     "data": {
      "text/plain": [
       "['scaler_nn.pkl']"
      ]
     },
     "execution_count": 45,
     "metadata": {},
     "output_type": "execute_result"
    }
   ],
   "source": [
    "import joblib\n",
    "from tensorflow.keras.models import load_model\n",
    "\n",
    "# Save the trained model\n",
    "model.save('tampering_detection_model.h5')\n",
    "\n",
    "# Save the scaler used for input normalization\n",
    "joblib.dump(scaler_nn, 'scaler_nn.pkl')\n"
   ]
  },
  {
   "cell_type": "markdown",
   "id": "ce9b492d",
   "metadata": {},
   "source": [
    " 2.  Load Model and Scaler(for inference)"
   ]
  },
  {
   "cell_type": "code",
   "execution_count": 46,
   "id": "5d6132ca",
   "metadata": {},
   "outputs": [],
   "source": [
    "# Load the model and scaler\n",
    "model = load_model('tampering_detection_model.h5')\n",
    "scaler_nn = joblib.load('scaler_nn.pkl')\n"
   ]
  },
  {
   "cell_type": "markdown",
   "id": "b31e974a",
   "metadata": {},
   "source": [
    " 3.  Define Real-Time Prediction Function"
   ]
  },
  {
   "cell_type": "code",
   "execution_count": 47,
   "id": "cbb73500",
   "metadata": {},
   "outputs": [],
   "source": [
    "\n",
    "\n",
    "def predict_tampering(accel_x, accel_y, votes, hour, minute):\n",
    "    \"\"\"\n",
    "    Predict tampering based on real-time sensor inputs.\n",
    "\n",
    "    Parameters:\n",
    "    accel_x (float): X-axis acceleration\n",
    "    accel_y (float): Y-axis acceleration\n",
    "    votes (int): Number of votes in the last minute\n",
    "    hour (int): Hour of the day (0-23)\n",
    "    minute (int): Minute of the hour (0-59)\n",
    "\n",
    "    Returns:\n",
    "    dict: Prediction result including tampering probability and detection flag\n",
    "    \"\"\"\n",
    "    input_data = np.array([[accel_x, accel_y, votes, hour, minute]])\n",
    "    input_scaled = scaler_nn.transform(input_data)\n",
    "    prediction = model.predict(input_scaled)\n",
    "\n",
    "    return {\n",
    "        \"tampering_probability\": float(prediction[0][1]),\n",
    "        \"tampering_detected\": bool(np.argmax(prediction[0]) == 1)\n",
    "    }\n"
   ]
  },
  {
   "cell_type": "markdown",
   "id": "5ab183b9",
   "metadata": {},
   "source": [
    "4. Test with sample inputs"
   ]
  },
  {
   "cell_type": "code",
   "execution_count": 48,
   "id": "a4d1c639",
   "metadata": {},
   "outputs": [
    {
     "name": "stdout",
     "output_type": "stream",
     "text": [
      "1/1 [==============================] - 0s 90ms/step\n",
      "Test 1: {'tampering_probability': 0.9563174247741699, 'tampering_detected': True}\n",
      "1/1 [==============================] - 0s 24ms/step\n",
      "Test 2: {'tampering_probability': 0.07107636332511902, 'tampering_detected': False}\n"
     ]
    }
   ],
   "source": [
    "# Likely tampering\n",
    "result1 = predict_tampering(1.8, 0.9, 0, 8, 30)\n",
    "print(\"Test 1:\", result1)\n",
    "\n",
    "# Normal operation\n",
    "result2 = predict_tampering(0.1, 0.05, 10, 9, 15)\n",
    "print(\"Test 2:\", result2)\n"
   ]
  },
  {
   "cell_type": "markdown",
   "id": "66678f19",
   "metadata": {},
   "source": [
    "### Conclusions"
   ]
  },
  {
   "cell_type": "markdown",
   "id": "2b82e581",
   "metadata": {},
   "source": [
    "###  Conclusions\n",
    "\n",
    "The neural network-based tampering detection system successfully demonstrates the feasibility of using sensor data to flag abnormal voting machine behavior in near real-time.\n",
    "\n",
    "#### Key takeaways:\n",
    "- Neural networks are well-suited for detecting nonlinear patterns in sensor data.\n",
    "- Proper preprocessing (scaling and feature selection) significantly boosts model performance.\n",
    "- Accelerometer features (`accel_x`, `accel_y`) are reliable indicators of potential tampering.\n",
    "- The model can be integrated into an alerting system to flag suspicious activity automatically.\n",
    "\n",
    "Overall, the implementation provides a strong baseline for smart ballot box monitoring using machine learning.\n"
   ]
  },
  {
   "cell_type": "markdown",
   "id": "4f44c4bd",
   "metadata": {},
   "source": [
    "### Recommendations "
   ]
  },
  {
   "cell_type": "markdown",
   "id": "d5bd859b",
   "metadata": {},
   "source": [
    "###  Recommendations\n",
    "\n",
    "Based on the current implementation, the following recommendations are made:\n",
    "\n",
    "1. Data Expansion: Collecting more labeled data, especially real-world tampering events, to improve model generalization.\n",
    "2. Model Evaluation: Adding metrics like precision, recall, F1-score, and ROC-AUC to better understand performance beyond accuracy.\n",
    "3. Sensor Fusion: Considerations like gyroscope or environmental sensors to enrich the input features.\n",
    "4. Real-Time Pipeline: Implementing a lightweight model-serving architecture (e.g., TensorFlow Lite or ONNX) for deployment on edge devices.\n",
    "5. Threshold Tuning: Customize tampering probability thresholds based on voting center sensitivity or time of day.\n"
   ]
  },
  {
   "cell_type": "markdown",
   "id": "ebf0629f",
   "metadata": {},
   "source": [
    "### Future work"
   ]
  },
  {
   "cell_type": "markdown",
   "id": "633d45ad",
   "metadata": {},
   "source": [
    "\n",
    "\n",
    "To improve and extend the capabilities of the current system, future work should focus on:\n",
    "\n",
    "- Improved Data Labeling: Use semi-supervised learning or anomaly detection to handle unlabeled or imbalanced data.\n",
    "- Behavioral Analysis: Incorporate voter flow patterns and time-based voting trends to detect unusual activity.\n",
    "- Edge Deployment: Deploy the model to Raspberry Pi or embedded devices for real-time tampering alerts without reliance on cloud infrastructure.\n",
    "- Security Enhancements: Integrate with blockchain or secure logging systems for traceability of predictions.\n",
    "- AutoML Techniques: Experiment with automated model tuning (e.g., Keras Tuner or Optuna) for hyperparameter optimization.\n"
   ]
  }
 ],
 "metadata": {
  "kernelspec": {
   "display_name": "learn-env",
   "language": "python",
   "name": "python3"
  },
  "language_info": {
   "codemirror_mode": {
    "name": "ipython",
    "version": 3
   },
   "file_extension": ".py",
   "mimetype": "text/x-python",
   "name": "python",
   "nbconvert_exporter": "python",
   "pygments_lexer": "ipython3",
   "version": "3.8.5"
  }
 },
 "nbformat": 4,
 "nbformat_minor": 5
}
